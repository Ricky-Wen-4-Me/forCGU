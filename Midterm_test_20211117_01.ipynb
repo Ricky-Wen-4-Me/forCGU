{
 "cells": [
  {
   "cell_type": "code",
   "execution_count": 2,
   "id": "28ccf01d",
   "metadata": {},
   "outputs": [],
   "source": [
    "import sympy as sm\n",
    "\n",
    "x, N = sm.symbols(\"x, N\")"
   ]
  },
  {
   "cell_type": "code",
   "execution_count": 3,
   "id": "ee5ec4a3",
   "metadata": {},
   "outputs": [
    {
     "name": "stdout",
     "output_type": "stream",
     "text": [
      "k= 0\n",
      "f= Sum(1, (x, 10, N))\n"
     ]
    },
    {
     "data": {
      "text/latex": [
       "$\\displaystyle \\sum_{x=10}^{N} 1$"
      ],
      "text/plain": [
       "Sum(1, (x, 10, N))"
      ]
     },
     "metadata": {},
     "output_type": "display_data"
    },
    {
     "data": {
      "text/latex": [
       "$\\displaystyle N - 9$"
      ],
      "text/plain": [
       "N - 9"
      ]
     },
     "metadata": {},
     "output_type": "display_data"
    },
    {
     "name": "stdout",
     "output_type": "stream",
     "text": [
      "----------\n",
      "k= 1\n",
      "f= Sum(x, (x, 10, N))\n"
     ]
    },
    {
     "data": {
      "text/latex": [
       "$\\displaystyle \\sum_{x=10}^{N} x$"
      ],
      "text/plain": [
       "Sum(x, (x, 10, N))"
      ]
     },
     "metadata": {},
     "output_type": "display_data"
    },
    {
     "data": {
      "text/latex": [
       "$\\displaystyle \\frac{N^{2}}{2} + \\frac{N}{2} - 45$"
      ],
      "text/plain": [
       "N**2/2 + N/2 - 45"
      ]
     },
     "metadata": {},
     "output_type": "display_data"
    },
    {
     "name": "stdout",
     "output_type": "stream",
     "text": [
      "----------\n",
      "k= 2\n",
      "f= Sum(x**2, (x, 10, N))\n"
     ]
    },
    {
     "data": {
      "text/latex": [
       "$\\displaystyle \\sum_{x=10}^{N} x^{2}$"
      ],
      "text/plain": [
       "Sum(x**2, (x, 10, N))"
      ]
     },
     "metadata": {},
     "output_type": "display_data"
    },
    {
     "data": {
      "text/latex": [
       "$\\displaystyle \\frac{N^{3}}{3} + \\frac{N^{2}}{2} + \\frac{N}{6} - 285$"
      ],
      "text/plain": [
       "N**3/3 + N**2/2 + N/6 - 285"
      ]
     },
     "metadata": {},
     "output_type": "display_data"
    },
    {
     "name": "stdout",
     "output_type": "stream",
     "text": [
      "----------\n",
      "k= 3\n",
      "f= Sum(x**3, (x, 10, N))\n"
     ]
    },
    {
     "data": {
      "text/latex": [
       "$\\displaystyle \\sum_{x=10}^{N} x^{3}$"
      ],
      "text/plain": [
       "Sum(x**3, (x, 10, N))"
      ]
     },
     "metadata": {},
     "output_type": "display_data"
    },
    {
     "data": {
      "text/latex": [
       "$\\displaystyle \\frac{N^{4}}{4} + \\frac{N^{3}}{2} + \\frac{N^{2}}{4} - 2025$"
      ],
      "text/plain": [
       "N**4/4 + N**3/2 + N**2/4 - 2025"
      ]
     },
     "metadata": {},
     "output_type": "display_data"
    },
    {
     "name": "stdout",
     "output_type": "stream",
     "text": [
      "----------\n",
      "k= 4\n",
      "f= Sum(x**4, (x, 10, N))\n"
     ]
    },
    {
     "data": {
      "text/latex": [
       "$\\displaystyle \\sum_{x=10}^{N} x^{4}$"
      ],
      "text/plain": [
       "Sum(x**4, (x, 10, N))"
      ]
     },
     "metadata": {},
     "output_type": "display_data"
    },
    {
     "data": {
      "text/latex": [
       "$\\displaystyle \\frac{N^{5}}{5} + \\frac{N^{4}}{2} + \\frac{N^{3}}{3} - \\frac{N}{30} - 15333$"
      ],
      "text/plain": [
       "N**5/5 + N**4/2 + N**3/3 - N/30 - 15333"
      ]
     },
     "metadata": {},
     "output_type": "display_data"
    },
    {
     "name": "stdout",
     "output_type": "stream",
     "text": [
      "----------\n",
      "k= 5\n",
      "f= Sum(x**5, (x, 10, N))\n"
     ]
    },
    {
     "data": {
      "text/latex": [
       "$\\displaystyle \\sum_{x=10}^{N} x^{5}$"
      ],
      "text/plain": [
       "Sum(x**5, (x, 10, N))"
      ]
     },
     "metadata": {},
     "output_type": "display_data"
    },
    {
     "data": {
      "text/latex": [
       "$\\displaystyle \\frac{N^{6}}{6} + \\frac{N^{5}}{2} + \\frac{5 N^{4}}{12} - \\frac{N^{2}}{12} - 120825$"
      ],
      "text/plain": [
       "N**6/6 + N**5/2 + 5*N**4/12 - N**2/12 - 120825"
      ]
     },
     "metadata": {},
     "output_type": "display_data"
    },
    {
     "name": "stdout",
     "output_type": "stream",
     "text": [
      "----------\n",
      "k= 6\n",
      "f= Sum(x**6, (x, 10, N))\n"
     ]
    },
    {
     "data": {
      "text/latex": [
       "$\\displaystyle \\sum_{x=10}^{N} x^{6}$"
      ],
      "text/plain": [
       "Sum(x**6, (x, 10, N))"
      ]
     },
     "metadata": {},
     "output_type": "display_data"
    },
    {
     "data": {
      "text/latex": [
       "$\\displaystyle \\frac{N^{7}}{7} + \\frac{N^{6}}{2} + \\frac{N^{5}}{2} - \\frac{N^{3}}{6} + \\frac{N}{42} - 978405$"
      ],
      "text/plain": [
       "N**7/7 + N**6/2 + N**5/2 - N**3/6 + N/42 - 978405"
      ]
     },
     "metadata": {},
     "output_type": "display_data"
    },
    {
     "name": "stdout",
     "output_type": "stream",
     "text": [
      "----------\n",
      "k= 7\n",
      "f= Sum(x**7, (x, 10, N))\n"
     ]
    },
    {
     "data": {
      "text/latex": [
       "$\\displaystyle \\sum_{x=10}^{N} x^{7}$"
      ],
      "text/plain": [
       "Sum(x**7, (x, 10, N))"
      ]
     },
     "metadata": {},
     "output_type": "display_data"
    },
    {
     "data": {
      "text/latex": [
       "$\\displaystyle \\frac{N^{8}}{8} + \\frac{N^{7}}{2} + \\frac{7 N^{6}}{12} - \\frac{7 N^{4}}{24} + \\frac{N^{2}}{12} - 8080425$"
      ],
      "text/plain": [
       "N**8/8 + N**7/2 + 7*N**6/12 - 7*N**4/24 + N**2/12 - 8080425"
      ]
     },
     "metadata": {},
     "output_type": "display_data"
    },
    {
     "name": "stdout",
     "output_type": "stream",
     "text": [
      "----------\n",
      "k= 8\n",
      "f= Sum(x**8, (x, 10, N))\n"
     ]
    },
    {
     "data": {
      "text/latex": [
       "$\\displaystyle \\sum_{x=10}^{N} x^{8}$"
      ],
      "text/plain": [
       "Sum(x**8, (x, 10, N))"
      ]
     },
     "metadata": {},
     "output_type": "display_data"
    },
    {
     "data": {
      "text/latex": [
       "$\\displaystyle \\frac{N^{9}}{9} + \\frac{N^{8}}{2} + \\frac{2 N^{7}}{3} - \\frac{7 N^{5}}{15} + \\frac{2 N^{3}}{9} - \\frac{N}{30} - 67731333$"
      ],
      "text/plain": [
       "N**9/9 + N**8/2 + 2*N**7/3 - 7*N**5/15 + 2*N**3/9 - N/30 - 67731333"
      ]
     },
     "metadata": {},
     "output_type": "display_data"
    },
    {
     "name": "stdout",
     "output_type": "stream",
     "text": [
      "----------\n",
      "k= 9\n",
      "f= Sum(x**9, (x, 10, N))\n"
     ]
    },
    {
     "data": {
      "text/latex": [
       "$\\displaystyle \\sum_{x=10}^{N} x^{9}$"
      ],
      "text/plain": [
       "Sum(x**9, (x, 10, N))"
      ]
     },
     "metadata": {},
     "output_type": "display_data"
    },
    {
     "data": {
      "text/latex": [
       "$\\displaystyle \\frac{N^{10}}{10} + \\frac{N^{9}}{2} + \\frac{3 N^{8}}{4} - \\frac{7 N^{6}}{10} + \\frac{N^{4}}{2} - \\frac{3 N^{2}}{20} - 574304985$"
      ],
      "text/plain": [
       "N**10/10 + N**9/2 + 3*N**8/4 - 7*N**6/10 + N**4/2 - 3*N**2/20 - 574304985"
      ]
     },
     "metadata": {},
     "output_type": "display_data"
    },
    {
     "name": "stdout",
     "output_type": "stream",
     "text": [
      "----------\n",
      "k= 10\n",
      "f= Sum(x**10, (x, 10, N))\n"
     ]
    },
    {
     "data": {
      "text/latex": [
       "$\\displaystyle \\sum_{x=10}^{N} x^{10}$"
      ],
      "text/plain": [
       "Sum(x**10, (x, 10, N))"
      ]
     },
     "metadata": {},
     "output_type": "display_data"
    },
    {
     "data": {
      "text/latex": [
       "$\\displaystyle \\frac{N^{11}}{11} + \\frac{N^{10}}{2} + \\frac{5 N^{9}}{6} - N^{7} + N^{5} - \\frac{N^{3}}{2} + \\frac{5 N}{66} - 4914341925$"
      ],
      "text/plain": [
       "N**11/11 + N**10/2 + 5*N**9/6 - N**7 + N**5 - N**3/2 + 5*N/66 - 4914341925"
      ]
     },
     "metadata": {},
     "output_type": "display_data"
    },
    {
     "name": "stdout",
     "output_type": "stream",
     "text": [
      "----------\n"
     ]
    }
   ],
   "source": [
    "for k in range(11):\n",
    "    \n",
    "    f= sm.Sum( x**k, \n",
    "              (x, 10, N))\n",
    "    \n",
    "    結果= f.doit()\n",
    "    \n",
    "    print(f'k= {k}')\n",
    "    print(f'f= {f}')\n",
    "    display(f)\n",
    "    display(結果)\n",
    "    print(\"-\"*10)"
   ]
  },
  {
   "cell_type": "code",
   "execution_count": 4,
   "id": "d94f031e",
   "metadata": {},
   "outputs": [
    {
     "data": {
      "text/latex": [
       "$\\displaystyle \\sum_{x=0}^{N} x^{10}$"
      ],
      "text/plain": [
       "Sum(x**10, (x, 0, N))"
      ]
     },
     "metadata": {},
     "output_type": "display_data"
    }
   ],
   "source": [
    "f = sm.Sum( x**10, (x, 0, N))\n",
    "display(f)\n"
   ]
  },
  {
   "cell_type": "code",
   "execution_count": 5,
   "id": "ce32c500",
   "metadata": {},
   "outputs": [
    {
     "data": {
      "text/latex": [
       "$\\displaystyle \\frac{N^{11}}{11} + \\frac{N^{10}}{2} + \\frac{5 N^{9}}{6} - N^{7} + N^{5} - \\frac{N^{3}}{2} + \\frac{5 N}{66}$"
      ],
      "text/plain": [
       "N**11/11 + N**10/2 + 5*N**9/6 - N**7 + N**5 - N**3/2 + 5*N/66"
      ]
     },
     "metadata": {},
     "output_type": "display_data"
    }
   ],
   "source": [
    "ex = f.doit()\n",
    "display(ex)"
   ]
  },
  {
   "cell_type": "code",
   "execution_count": 6,
   "id": "2d008c1f",
   "metadata": {},
   "outputs": [
    {
     "data": {
      "text/latex": [
       "$\\displaystyle \\sum_{x=1}^{N} \\left(x - 1\\right)^{10}$"
      ],
      "text/plain": [
       "Sum((x - 1)**10, (x, 1, N))"
      ]
     },
     "metadata": {},
     "output_type": "display_data"
    }
   ],
   "source": [
    "f = sm.Sum( (x-1)**10, (x, 1, N))\n",
    "display(f)"
   ]
  },
  {
   "cell_type": "code",
   "execution_count": 7,
   "id": "3753a5e6",
   "metadata": {},
   "outputs": [
    {
     "data": {
      "text/latex": [
       "$\\displaystyle \\frac{N^{11}}{11} - \\frac{N^{10}}{2} + \\frac{5 N^{9}}{6} - N^{7} + N^{5} - \\frac{N^{3}}{2} + \\frac{5 N}{66}$"
      ],
      "text/plain": [
       "N**11/11 - N**10/2 + 5*N**9/6 - N**7 + N**5 - N**3/2 + 5*N/66"
      ]
     },
     "metadata": {},
     "output_type": "display_data"
    }
   ],
   "source": [
    "ex = f.doit()\n",
    "display(ex)"
   ]
  },
  {
   "cell_type": "code",
   "execution_count": 8,
   "id": "a03e2496",
   "metadata": {},
   "outputs": [
    {
     "data": {
      "text/latex": [
       "$\\displaystyle e^{3}$"
      ],
      "text/plain": [
       "exp(3)"
      ]
     },
     "metadata": {},
     "output_type": "display_data"
    }
   ],
   "source": [
    "display(sm.E ** 3)"
   ]
  },
  {
   "cell_type": "code",
   "execution_count": 9,
   "id": "adf2abc5",
   "metadata": {},
   "outputs": [
    {
     "data": {
      "text/latex": [
       "$\\displaystyle x^{10} e^{- x}$"
      ],
      "text/plain": [
       "x**10*exp(-x)"
      ]
     },
     "metadata": {},
     "output_type": "display_data"
    }
   ],
   "source": [
    "f_inter = (x ** 10) * sm.E ** -x\n",
    "display(f_inter)\n"
   ]
  },
  {
   "cell_type": "code",
   "execution_count": 10,
   "id": "43103e13",
   "metadata": {},
   "outputs": [
    {
     "data": {
      "text/latex": [
       "$\\displaystyle 3628800$"
      ],
      "text/plain": [
       "3628800"
      ]
     },
     "execution_count": 10,
     "metadata": {},
     "output_type": "execute_result"
    }
   ],
   "source": [
    "sm.integrate(f_inter, (x, 0, sm.oo))"
   ]
  },
  {
   "cell_type": "code",
   "execution_count": 11,
   "id": "b5c55c45",
   "metadata": {},
   "outputs": [
    {
     "data": {
      "text/latex": [
       "$\\displaystyle \\infty$"
      ],
      "text/plain": [
       "oo"
      ]
     },
     "metadata": {},
     "output_type": "display_data"
    }
   ],
   "source": [
    "display(sm.oo)"
   ]
  },
  {
   "cell_type": "code",
   "execution_count": 12,
   "id": "5918673c",
   "metadata": {},
   "outputs": [
    {
     "data": {
      "text/latex": [
       "$\\displaystyle i$"
      ],
      "text/plain": [
       "I"
      ]
     },
     "metadata": {},
     "output_type": "display_data"
    }
   ],
   "source": [
    "display(sm.I)"
   ]
  },
  {
   "cell_type": "code",
   "execution_count": 13,
   "id": "06851d05",
   "metadata": {},
   "outputs": [
    {
     "data": {
      "text/latex": [
       "$\\displaystyle i^{i}$"
      ],
      "text/plain": [
       "I**I"
      ]
     },
     "metadata": {},
     "output_type": "display_data"
    }
   ],
   "source": [
    "display(sm.I ** sm.I)"
   ]
  },
  {
   "cell_type": "code",
   "execution_count": 14,
   "id": "9aeb48ed",
   "metadata": {},
   "outputs": [
    {
     "data": {
      "text/latex": [
       "$\\displaystyle i$"
      ],
      "text/plain": [
       "I"
      ]
     },
     "metadata": {},
     "output_type": "display_data"
    }
   ],
   "source": [
    "display(sm.sqrt(-1))"
   ]
  },
  {
   "cell_type": "code",
   "execution_count": 15,
   "id": "a1263c40",
   "metadata": {},
   "outputs": [
    {
     "data": {
      "text/latex": [
       "$\\displaystyle i^{i}$"
      ],
      "text/plain": [
       "I**I"
      ]
     },
     "metadata": {},
     "output_type": "display_data"
    }
   ],
   "source": [
    "display(sm.sqrt(-1)**sm.sqrt(-1))"
   ]
  },
  {
   "cell_type": "code",
   "execution_count": null,
   "id": "1674d73c",
   "metadata": {},
   "outputs": [],
   "source": []
  },
  {
   "cell_type": "code",
   "execution_count": null,
   "id": "fb5ff6ff",
   "metadata": {},
   "outputs": [],
   "source": []
  }
 ],
 "metadata": {
  "kernelspec": {
   "display_name": "Python 3",
   "language": "python",
   "name": "python3"
  },
  "language_info": {
   "codemirror_mode": {
    "name": "ipython",
    "version": 3
   },
   "file_extension": ".py",
   "mimetype": "text/x-python",
   "name": "python",
   "nbconvert_exporter": "python",
   "pygments_lexer": "ipython3",
   "version": "3.8.8"
  }
 },
 "nbformat": 4,
 "nbformat_minor": 5
}
