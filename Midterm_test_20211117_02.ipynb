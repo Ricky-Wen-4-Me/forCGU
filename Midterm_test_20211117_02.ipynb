{
 "cells": [
  {
   "cell_type": "code",
   "execution_count": 34,
   "id": "8d636253",
   "metadata": {},
   "outputs": [],
   "source": [
    "from sympy.plotting import plot as p\n",
    "import matplotlib.pyplot as mpl\n",
    "import sympy as sm\n",
    "\n",
    "x, y = sm.symbols(\"x, y\")"
   ]
  },
  {
   "cell_type": "code",
   "execution_count": 35,
   "id": "658e0955",
   "metadata": {},
   "outputs": [
    {
     "data": {
      "text/latex": [
       "$\\displaystyle e^{- \\left(x - 1\\right)^{2} - \\left(y + 1\\right)^{2}}$"
      ],
      "text/plain": [
       "exp(-(x - 1)**2 - (y + 1)**2)"
      ]
     },
     "metadata": {},
     "output_type": "display_data"
    }
   ],
   "source": [
    "f1 = sm.E ** -((x-1) ** 2 + (y+1) ** 2)\n",
    "display(f1)"
   ]
  },
  {
   "cell_type": "code",
   "execution_count": 36,
   "id": "bdba2c57",
   "metadata": {},
   "outputs": [
    {
     "data": {
      "text/latex": [
       "$\\displaystyle \\left(2 - 2 x\\right) e^{- \\left(x - 1\\right)^{2} - \\left(y + 1\\right)^{2}}$"
      ],
      "text/plain": [
       "(2 - 2*x)*exp(-(x - 1)**2 - (y + 1)**2)"
      ]
     },
     "metadata": {},
     "output_type": "display_data"
    }
   ],
   "source": [
    "f_diff_x = sm.diff(f1, x)\n",
    "display(f_diff_x)"
   ]
  },
  {
   "cell_type": "code",
   "execution_count": 37,
   "id": "76258a82",
   "metadata": {},
   "outputs": [
    {
     "data": {
      "text/latex": [
       "$\\displaystyle \\left(- 2 y - 2\\right) e^{- \\left(x - 1\\right)^{2} - \\left(y + 1\\right)^{2}}$"
      ],
      "text/plain": [
       "(-2*y - 2)*exp(-(x - 1)**2 - (y + 1)**2)"
      ]
     },
     "metadata": {},
     "output_type": "display_data"
    }
   ],
   "source": [
    "f_diff_y = sm.diff(f1, y)\n",
    "display(f_diff_y)"
   ]
  },
  {
   "cell_type": "code",
   "execution_count": 38,
   "id": "a16976da",
   "metadata": {},
   "outputs": [
    {
     "data": {
      "text/latex": [
       "$\\displaystyle 4 \\left(x - 1\\right) \\left(y + 1\\right) e^{- \\left(x - 1\\right)^{2} - \\left(y + 1\\right)^{2}}$"
      ],
      "text/plain": [
       "4*(x - 1)*(y + 1)*exp(-(x - 1)**2 - (y + 1)**2)"
      ]
     },
     "metadata": {},
     "output_type": "display_data"
    }
   ],
   "source": [
    "f_diff_xy = sm.diff(f1, x, y)\n",
    "display(f_diff_xy)"
   ]
  },
  {
   "cell_type": "code",
   "execution_count": 39,
   "id": "8ae11e1b",
   "metadata": {},
   "outputs": [
    {
     "data": {
      "text/plain": [
       "[1]"
      ]
     },
     "metadata": {},
     "output_type": "display_data"
    }
   ],
   "source": [
    "f_diff_x_sol = sm.solve(f_diff_x, x)\n",
    "display(f_diff_x_sol)"
   ]
  },
  {
   "cell_type": "code",
   "execution_count": 40,
   "id": "52acecd3",
   "metadata": {},
   "outputs": [
    {
     "data": {
      "text/plain": [
       "[-1]"
      ]
     },
     "metadata": {},
     "output_type": "display_data"
    }
   ],
   "source": [
    "f_diff_y_sol = sm.solve(f_diff_y, y)\n",
    "display(f_diff_y_sol)"
   ]
  },
  {
   "cell_type": "code",
   "execution_count": null,
   "id": "fbb2e2e7",
   "metadata": {},
   "outputs": [],
   "source": []
  },
  {
   "cell_type": "code",
   "execution_count": null,
   "id": "550ac331",
   "metadata": {},
   "outputs": [],
   "source": []
  }
 ],
 "metadata": {
  "kernelspec": {
   "display_name": "Python 3",
   "language": "python",
   "name": "python3"
  },
  "language_info": {
   "codemirror_mode": {
    "name": "ipython",
    "version": 3
   },
   "file_extension": ".py",
   "mimetype": "text/x-python",
   "name": "python",
   "nbconvert_exporter": "python",
   "pygments_lexer": "ipython3",
   "version": "3.8.8"
  }
 },
 "nbformat": 4,
 "nbformat_minor": 5
}
