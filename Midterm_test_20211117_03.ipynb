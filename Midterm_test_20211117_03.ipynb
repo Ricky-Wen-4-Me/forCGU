{
 "cells": [
  {
   "cell_type": "code",
   "execution_count": 3,
   "id": "1e7340a1",
   "metadata": {},
   "outputs": [
    {
     "data": {
      "text/latex": [
       "$\\displaystyle \\frac{\\sqrt{\\pi} \\operatorname{erf}{\\left(\\sqrt{2} \\right)}}{\\sqrt{π}}$"
      ],
      "text/plain": [
       "sqrt(pi)*erf(sqrt(2))/sqrt(π)"
      ]
     },
     "execution_count": 3,
     "metadata": {},
     "output_type": "execute_result"
    }
   ],
   "source": [
    "import sympy as sm\n",
    "\n",
    "x, π = sm.symbols(\"x, π\")\n",
    "\n",
    "Φ = sm.exp(-x**2 /2) / sm.sqrt(2*π)\n",
    "\n",
    "F = sm.integrate(Φ,(x, -2, 2))\n",
    "\n",
    "F"
   ]
  },
  {
   "cell_type": "code",
   "execution_count": 4,
   "id": "39a1ced8",
   "metadata": {},
   "outputs": [
    {
     "data": {
      "text/latex": [
       "$\\displaystyle \\frac{\\sqrt{\\pi} \\operatorname{erf}{\\left(\\frac{\\sqrt{2} t}{2} \\right)}}{2 \\sqrt{π}} + \\frac{\\sqrt{\\pi}}{2 \\sqrt{π}}$"
      ],
      "text/plain": [
       "sqrt(pi)*erf(sqrt(2)*t/2)/(2*sqrt(π)) + sqrt(pi)/(2*sqrt(π))"
      ]
     },
     "execution_count": 4,
     "metadata": {},
     "output_type": "execute_result"
    }
   ],
   "source": [
    "t = sm.symbols(\"t\")\n",
    "\n",
    "F_cdf = sm.integrate(Φ,(x, -(sm.oo), t))\n",
    "F_cdf"
   ]
  },
  {
   "cell_type": "code",
   "execution_count": 5,
   "id": "0176e41f",
   "metadata": {},
   "outputs": [
    {
     "data": {
      "text/latex": [
       "$\\displaystyle 0$"
      ],
      "text/plain": [
       "0"
      ]
     },
     "execution_count": 5,
     "metadata": {},
     "output_type": "execute_result"
    }
   ],
   "source": [
    "μ = sm.symbols(\"μ\")\n",
    "\n",
    "μ = x * Φ\n",
    "\n",
    "mean = sm.integrate(μ,(x, -(sm.oo), (sm.oo)))\n",
    "mean"
   ]
  },
  {
   "cell_type": "code",
   "execution_count": 6,
   "id": "29951748",
   "metadata": {},
   "outputs": [
    {
     "data": {
      "text/latex": [
       "$\\displaystyle \\frac{\\sqrt{\\pi}}{\\sqrt{π}}$"
      ],
      "text/plain": [
       "sqrt(pi)/sqrt(π)"
      ]
     },
     "execution_count": 6,
     "metadata": {},
     "output_type": "execute_result"
    }
   ],
   "source": [
    "σ = sm.symbols(\"σ\")\n",
    "\n",
    "σ_pwr_2 = (x ** 2) * Φ\n",
    "\n",
    "std_d = sm.integrate(σ_pwr_2,(x, -(sm.oo), (sm.oo)))\n",
    "\n",
    "std_d"
   ]
  },
  {
   "cell_type": "code",
   "execution_count": 7,
   "id": "fac1533a",
   "metadata": {},
   "outputs": [
    {
     "data": {
      "text/latex": [
       "$\\displaystyle 0$"
      ],
      "text/plain": [
       "0"
      ]
     },
     "execution_count": 7,
     "metadata": {},
     "output_type": "execute_result"
    }
   ],
   "source": [
    "skew_E = (x ** 3) * Φ\n",
    "\n",
    "skew = sm.integrate(skew_E,(x, -(sm.oo), (sm.oo)))\n",
    "skew"
   ]
  },
  {
   "cell_type": "code",
   "execution_count": 8,
   "id": "192374ce",
   "metadata": {},
   "outputs": [
    {
     "data": {
      "text/latex": [
       "$\\displaystyle \\frac{3 \\sqrt{\\pi}}{\\sqrt{π}}$"
      ],
      "text/plain": [
       "3*sqrt(pi)/sqrt(π)"
      ]
     },
     "execution_count": 8,
     "metadata": {},
     "output_type": "execute_result"
    }
   ],
   "source": [
    "kurt_E = (x ** 4) * Φ\n",
    "\n",
    "kurt = sm.integrate(kurt_E,(x, -(sm.oo), (sm.oo)))\n",
    "kurt"
   ]
  },
  {
   "cell_type": "code",
   "execution_count": 9,
   "id": "f5b441c3",
   "metadata": {},
   "outputs": [
    {
     "data": {
      "text/latex": [
       "$\\displaystyle -3 + \\frac{3 \\sqrt{\\pi}}{\\sqrt{π}}$"
      ],
      "text/plain": [
       "-3 + 3*sqrt(pi)/sqrt(π)"
      ]
     },
     "execution_count": 9,
     "metadata": {},
     "output_type": "execute_result"
    }
   ],
   "source": [
    "kurt - 3"
   ]
  },
  {
   "cell_type": "code",
   "execution_count": 11,
   "id": "6f576e79",
   "metadata": {},
   "outputs": [
    {
     "data": {
      "text/latex": [
       "$\\displaystyle \\frac{\\sqrt{\\pi} \\log{\\left(π \\right)}}{2 \\sqrt{π}} + \\frac{\\sqrt{\\pi} \\log{\\left(2 \\right)}}{2 \\sqrt{π}} + \\frac{\\sqrt{\\pi}}{2 \\sqrt{π}}$"
      ],
      "text/plain": [
       "sqrt(pi)*log(π)/(2*sqrt(π)) + sqrt(pi)*log(2)/(2*sqrt(π)) + sqrt(pi)/(2*sqrt(π))"
      ]
     },
     "execution_count": 11,
     "metadata": {},
     "output_type": "execute_result"
    }
   ],
   "source": [
    "entropy_E = (sm.log(1/Φ)) * Φ\n",
    "\n",
    "entropy = sm.integrate(entropy_E,(x, -(sm.oo), (sm.oo)))\n",
    "entropy"
   ]
  },
  {
   "cell_type": "code",
   "execution_count": null,
   "id": "f2ac5a20",
   "metadata": {},
   "outputs": [],
   "source": []
  }
 ],
 "metadata": {
  "kernelspec": {
   "display_name": "Python 3",
   "language": "python",
   "name": "python3"
  },
  "language_info": {
   "codemirror_mode": {
    "name": "ipython",
    "version": 3
   },
   "file_extension": ".py",
   "mimetype": "text/x-python",
   "name": "python",
   "nbconvert_exporter": "python",
   "pygments_lexer": "ipython3",
   "version": "3.8.8"
  }
 },
 "nbformat": 4,
 "nbformat_minor": 5
}
