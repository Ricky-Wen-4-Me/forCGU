{
 "cells": [
  {
   "cell_type": "code",
   "execution_count": 1,
   "id": "59c8b947-16e4-4f96-9494-12490d4421f6",
   "metadata": {},
   "outputs": [
    {
     "name": "stdout",
     "output_type": "stream",
     "text": [
      "I can show you the world\n"
     ]
    }
   ],
   "source": [
    "print(\"I can show you the world\")"
   ]
  },
  {
   "cell_type": "code",
   "execution_count": 5,
   "id": "e5323766-7f76-4175-bc7e-bb116383e9e0",
   "metadata": {},
   "outputs": [
    {
     "name": "stdout",
     "output_type": "stream",
     "text": [
      "數字訓練：\n"
     ]
    },
    {
     "data": {
      "text/plain": [
       "(3.333333333, '字串', 987654321000000)"
      ]
     },
     "execution_count": 5,
     "metadata": {},
     "output_type": "execute_result"
    }
   ],
   "source": [
    "print(\"數字訓練：\")\n",
    "\n",
    "x= 1\n",
    "y= 2\n",
    "z= x+y\n",
    "\n",
    "x,y,z\n",
    "\n",
    "q = 3.333333333\n",
    "r = '字串'\n",
    "s = 987654321 * 1000000\n",
    "\n",
    "q, r, s"
   ]
  },
  {
   "cell_type": "code",
   "execution_count": 6,
   "id": "e9c2d41f-b674-47db-a87b-06d5cae6a4c1",
   "metadata": {},
   "outputs": [
    {
     "data": {
      "text/plain": [
       "[[1, 2], [3, 4]]"
      ]
     },
     "execution_count": 6,
     "metadata": {},
     "output_type": "execute_result"
    }
   ],
   "source": [
    "A= [[1,2],\n",
    "    [3,4]]\n",
    "A"
   ]
  },
  {
   "cell_type": "code",
   "execution_count": 21,
   "id": "616a5dfb-010a-4591-9a66-7d653d75ea15",
   "metadata": {
    "scrolled": true
   },
   "outputs": [
    {
     "data": {
      "text/plain": [
       "[[1, 2], [3, 4]]"
      ]
     },
     "execution_count": 21,
     "metadata": {},
     "output_type": "execute_result"
    }
   ],
   "source": [
    "import numpy.matlib\n",
    "import numpy as np\n",
    "\n",
    "A= [[1,2],\n",
    "    [3,4]]\n",
    "A"
   ]
  },
  {
   "cell_type": "code",
   "execution_count": 29,
   "id": "f428f274",
   "metadata": {},
   "outputs": [
    {
     "data": {
      "text/plain": [
       "array([[1, 2, 3],\n",
       "       [4, 5, 6],\n",
       "       [7, 8, 9]])"
      ]
     },
     "execution_count": 29,
     "metadata": {},
     "output_type": "execute_result"
    }
   ],
   "source": [
    "array_x = np.array([[1,2,3],[4,5,6],[7,8,9]])\n",
    "\n",
    "array_x"
   ]
  },
  {
   "cell_type": "code",
   "execution_count": 24,
   "id": "17dff69d",
   "metadata": {},
   "outputs": [
    {
     "data": {
      "text/plain": [
       "array([[ 1,  4,  9],\n",
       "       [16, 25, 36],\n",
       "       [49, 64, 81]])"
      ]
     },
     "execution_count": 24,
     "metadata": {},
     "output_type": "execute_result"
    }
   ],
   "source": [
    "array_x * array_x"
   ]
  },
  {
   "cell_type": "code",
   "execution_count": 25,
   "id": "d9cdd270",
   "metadata": {},
   "outputs": [
    {
     "data": {
      "text/plain": [
       "array([1, 2, 3])"
      ]
     },
     "execution_count": 25,
     "metadata": {},
     "output_type": "execute_result"
    }
   ],
   "source": [
    "array_x[0]"
   ]
  },
  {
   "cell_type": "code",
   "execution_count": 26,
   "id": "94b8cfc4",
   "metadata": {},
   "outputs": [
    {
     "data": {
      "text/plain": [
       "1"
      ]
     },
     "execution_count": 26,
     "metadata": {},
     "output_type": "execute_result"
    }
   ],
   "source": [
    "array_x[0][0]"
   ]
  },
  {
   "cell_type": "code",
   "execution_count": 27,
   "id": "32bb7040",
   "metadata": {},
   "outputs": [
    {
     "data": {
      "text/plain": [
       "45"
      ]
     },
     "execution_count": 27,
     "metadata": {},
     "output_type": "execute_result"
    }
   ],
   "source": [
    "array_x[0][0] * array_x[1][1] * array_x[2][2]"
   ]
  },
  {
   "cell_type": "code",
   "execution_count": 28,
   "id": "dc72d806",
   "metadata": {},
   "outputs": [
    {
     "name": "stdout",
     "output_type": "stream",
     "text": [
      "1\n",
      "1\n",
      "1\n"
     ]
    }
   ],
   "source": [
    "for i in range(3):\n",
    "    print(array_x[0][0])"
   ]
  },
  {
   "cell_type": "code",
   "execution_count": 15,
   "id": "daa52e89",
   "metadata": {},
   "outputs": [
    {
     "data": {
      "text/plain": [
       "1"
      ]
     },
     "execution_count": 15,
     "metadata": {},
     "output_type": "execute_result"
    }
   ],
   "source": [
    "array_x[0][0]"
   ]
  },
  {
   "cell_type": "code",
   "execution_count": 16,
   "id": "aff13f50",
   "metadata": {},
   "outputs": [
    {
     "data": {
      "text/plain": [
       "45"
      ]
     },
     "execution_count": 16,
     "metadata": {},
     "output_type": "execute_result"
    }
   ],
   "source": [
    "array_x[0][0] * array_x[1][1] * array_x[2][2]"
   ]
  },
  {
   "cell_type": "code",
   "execution_count": 17,
   "id": "6de2f404",
   "metadata": {},
   "outputs": [
    {
     "name": "stdout",
     "output_type": "stream",
     "text": [
      "1\n",
      "1\n",
      "1\n"
     ]
    }
   ],
   "source": [
    "for i in range(3):\n",
    "    print(array_x[0][0])"
   ]
  },
  {
   "cell_type": "code",
   "execution_count": 18,
   "id": "9e3ab1e4",
   "metadata": {},
   "outputs": [
    {
     "name": "stdout",
     "output_type": "stream",
     "text": [
      "1\n",
      "4\n",
      "7\n"
     ]
    }
   ],
   "source": [
    "for i in range(3):\n",
    "    print(array_x[i][0])"
   ]
  },
  {
   "cell_type": "code",
   "execution_count": 19,
   "id": "59f929c5",
   "metadata": {},
   "outputs": [
    {
     "name": "stdout",
     "output_type": "stream",
     "text": [
      "1\n",
      "2\n",
      "3\n",
      "4\n",
      "5\n",
      "6\n",
      "7\n",
      "8\n",
      "9\n"
     ]
    }
   ],
   "source": [
    "for i in range(3):\n",
    "    for j in range(3):\n",
    "        print(array_x[i][j])"
   ]
  },
  {
   "cell_type": "code",
   "execution_count": 20,
   "id": "15639d5b",
   "metadata": {},
   "outputs": [
    {
     "data": {
      "text/plain": [
       "45"
      ]
     },
     "execution_count": 20,
     "metadata": {},
     "output_type": "execute_result"
    }
   ],
   "source": [
    "z = 0\n",
    "\n",
    "for i in range(3):\n",
    "    for j in range(3):\n",
    "        z += array_x[i][j]\n",
    "        \n",
    "z"
   ]
  },
  {
   "cell_type": "code",
   "execution_count": 21,
   "id": "18cfe2b9",
   "metadata": {},
   "outputs": [
    {
     "data": {
      "text/plain": [
       "55"
      ]
     },
     "execution_count": 21,
     "metadata": {},
     "output_type": "execute_result"
    }
   ],
   "source": [
    "zz = 100\n",
    "\n",
    "for i in range(3):\n",
    "    for j in range(3):\n",
    "        zz -= array_x[i][j]\n",
    "        \n",
    "zz"
   ]
  },
  {
   "cell_type": "code",
   "execution_count": 22,
   "id": "39fa48b2",
   "metadata": {},
   "outputs": [
    {
     "data": {
      "text/plain": [
       "362880"
      ]
     },
     "execution_count": 22,
     "metadata": {},
     "output_type": "execute_result"
    }
   ],
   "source": [
    "zzz = 1\n",
    "\n",
    "for i in range(3):\n",
    "    for j in range(3):\n",
    "        zzz *= array_x[i][j]\n",
    "        \n",
    "zzz"
   ]
  },
  {
   "cell_type": "code",
   "execution_count": 23,
   "id": "cec7c7c8",
   "metadata": {},
   "outputs": [
    {
     "data": {
      "text/plain": [
       "0.02755456349206349"
      ]
     },
     "execution_count": 23,
     "metadata": {},
     "output_type": "execute_result"
    }
   ],
   "source": [
    "zzzz = 9999\n",
    "\n",
    "for i in range(3):\n",
    "    for j in range(3):\n",
    "        zzzz /= array_x[i][j]\n",
    "        \n",
    "zzzz"
   ]
  },
  {
   "cell_type": "code",
   "execution_count": 32,
   "id": "9553ab50",
   "metadata": {},
   "outputs": [
    {
     "data": {
      "text/plain": [
       "-9.51619735392994e-16"
      ]
     },
     "execution_count": 32,
     "metadata": {},
     "output_type": "execute_result"
    }
   ],
   "source": [
    "x_det = np.linalg.det(array_x) \n",
    "\n",
    "x_det"
   ]
  },
  {
   "cell_type": "code",
   "execution_count": 37,
   "id": "86b9dbf9",
   "metadata": {},
   "outputs": [
    {
     "data": {
      "text/plain": [
       "True"
      ]
     },
     "execution_count": 37,
     "metadata": {},
     "output_type": "execute_result"
    }
   ],
   "source": [
    "np.isclose(0, x_det)"
   ]
  },
  {
   "cell_type": "code",
   "execution_count": 38,
   "id": "b66aca05",
   "metadata": {},
   "outputs": [
    {
     "data": {
      "text/plain": [
       "array([[ 30,  36,  42],\n",
       "       [ 66,  81,  96],\n",
       "       [102, 126, 150]])"
      ]
     },
     "execution_count": 38,
     "metadata": {},
     "output_type": "execute_result"
    }
   ],
   "source": [
    "array_x @ array_x"
   ]
  },
  {
   "cell_type": "code",
   "execution_count": null,
   "id": "93136cf3",
   "metadata": {},
   "outputs": [],
   "source": []
  }
 ],
 "metadata": {
  "kernelspec": {
   "display_name": "Python 3",
   "language": "python",
   "name": "python3"
  },
  "language_info": {
   "codemirror_mode": {
    "name": "ipython",
    "version": 3
   },
   "file_extension": ".py",
   "mimetype": "text/x-python",
   "name": "python",
   "nbconvert_exporter": "python",
   "pygments_lexer": "ipython3",
   "version": "3.8.8"
  }
 },
 "nbformat": 4,
 "nbformat_minor": 5
}
