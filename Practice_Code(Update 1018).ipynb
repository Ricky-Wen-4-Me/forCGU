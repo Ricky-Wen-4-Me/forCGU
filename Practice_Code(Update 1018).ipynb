{
 "cells": [
  {
   "cell_type": "code",
   "execution_count": 2,
   "id": "df307ba7",
   "metadata": {},
   "outputs": [],
   "source": [
    "import sympy as sm\n",
    "\n",
    "x, y, z = sm.symbols(\"x, y, z\")"
   ]
  },
  {
   "cell_type": "code",
   "execution_count": 3,
   "id": "4abac678",
   "metadata": {},
   "outputs": [
    {
     "data": {
      "text/latex": [
       "$\\displaystyle x^{2} + 2 x y + 2 x z + y^{2} + 2 y z + z^{2}$"
      ],
      "text/plain": [
       "x**2 + 2*x*y + 2*x*z + y**2 + 2*y*z + z**2"
      ]
     },
     "execution_count": 3,
     "metadata": {},
     "output_type": "execute_result"
    }
   ],
   "source": [
    "f = sm.expand((x + y + z)*(x + y + z))\n",
    "\n",
    "f"
   ]
  },
  {
   "cell_type": "code",
   "execution_count": 4,
   "id": "e7e52e39",
   "metadata": {},
   "outputs": [
    {
     "data": {
      "text/latex": [
       "$\\displaystyle 2 x + 2 y + 2 z$"
      ],
      "text/plain": [
       "2*x + 2*y + 2*z"
      ]
     },
     "execution_count": 4,
     "metadata": {},
     "output_type": "execute_result"
    }
   ],
   "source": [
    "g = sm.diff(f, x)\n",
    "\n",
    "g"
   ]
  },
  {
   "cell_type": "code",
   "execution_count": 5,
   "id": "72474149",
   "metadata": {},
   "outputs": [
    {
     "data": {
      "text/latex": [
       "$\\displaystyle x^{5} + 30 x^{4} + 360 x^{3} + 2160 x^{2} + 6480 x + 7776$"
      ],
      "text/plain": [
       "x**5 + 30*x**4 + 360*x**3 + 2160*x**2 + 6480*x + 7776"
      ]
     },
     "execution_count": 5,
     "metadata": {},
     "output_type": "execute_result"
    }
   ],
   "source": [
    "f = sm.expand((x + 6) ** 5)\n",
    "\n",
    "f"
   ]
  },
  {
   "cell_type": "code",
   "execution_count": 6,
   "id": "d66f14ed",
   "metadata": {},
   "outputs": [
    {
     "data": {
      "text/latex": [
       "$\\displaystyle 5 x^{4} + 120 x^{3} + 1080 x^{2} + 4320 x + 6480$"
      ],
      "text/plain": [
       "5*x**4 + 120*x**3 + 1080*x**2 + 4320*x + 6480"
      ]
     },
     "execution_count": 6,
     "metadata": {},
     "output_type": "execute_result"
    }
   ],
   "source": [
    "g = sm.diff(f, x)\n",
    "\n",
    "g"
   ]
  },
  {
   "cell_type": "code",
   "execution_count": 7,
   "id": "d4c49018",
   "metadata": {},
   "outputs": [
    {
     "data": {
      "text/latex": [
       "$\\displaystyle x^{5} + 30 x^{4} + 360 x^{3} + 2160 x^{2} + 6480 x$"
      ],
      "text/plain": [
       "x**5 + 30*x**4 + 360*x**3 + 2160*x**2 + 6480*x"
      ]
     },
     "execution_count": 7,
     "metadata": {},
     "output_type": "execute_result"
    }
   ],
   "source": [
    "h = sm.integrate(g, x)\n",
    "\n",
    "h"
   ]
  },
  {
   "cell_type": "code",
   "execution_count": 8,
   "id": "a5ead67a",
   "metadata": {},
   "outputs": [
    {
     "data": {
      "text/latex": [
       "$\\displaystyle \\left(x + y + z\\right)^{2}$"
      ],
      "text/plain": [
       "(x + y + z)**2"
      ]
     },
     "execution_count": 8,
     "metadata": {},
     "output_type": "execute_result"
    }
   ],
   "source": [
    "k = sm.factor((x**2 + 2*x*y + 2*x*z + y**2 + 2*y*z + z**2))\n",
    "\n",
    "k"
   ]
  },
  {
   "cell_type": "code",
   "execution_count": 9,
   "id": "50cfef06",
   "metadata": {},
   "outputs": [
    {
     "data": {
      "text/latex": [
       "$\\displaystyle x^{2} y + x^{2} z + x y^{2} + 2 x y z + x z^{2} + y^{2} z + y z^{2}$"
      ],
      "text/plain": [
       "x**2*y + x**2*z + x*y**2 + 2*x*y*z + x*z**2 + y**2*z + y*z**2"
      ]
     },
     "execution_count": 9,
     "metadata": {},
     "output_type": "execute_result"
    }
   ],
   "source": [
    "o = sm.expand((x + y)*(y + z)*(x + z))\n",
    "\n",
    "o"
   ]
  },
  {
   "cell_type": "code",
   "execution_count": 10,
   "id": "d6af2850",
   "metadata": {},
   "outputs": [
    {
     "data": {
      "text/latex": [
       "$\\displaystyle x^{2} y + x^{2} z + x y^{2} + 2 x y z + x z^{2} + y^{2} z + y z^{2} = 0$"
      ],
      "text/plain": [
       "Eq(x**2*y + x**2*z + x*y**2 + 2*x*y*z + x*z**2 + y**2*z + y*z**2, 0)"
      ]
     },
     "execution_count": 10,
     "metadata": {},
     "output_type": "execute_result"
    }
   ],
   "source": [
    "sm.Eq(o, 0)"
   ]
  },
  {
   "cell_type": "code",
   "execution_count": 11,
   "id": "fdde8a68",
   "metadata": {},
   "outputs": [
    {
     "data": {
      "text/latex": [
       "$\\displaystyle \\left(x + y\\right) \\left(x + z\\right) \\left(y + z\\right)$"
      ],
      "text/plain": [
       "(x + y)*(x + z)*(y + z)"
      ]
     },
     "execution_count": 11,
     "metadata": {},
     "output_type": "execute_result"
    }
   ],
   "source": [
    "o.factor()"
   ]
  },
  {
   "cell_type": "code",
   "execution_count": 14,
   "id": "a6360aa4",
   "metadata": {},
   "outputs": [
    {
     "data": {
      "text/plain": [
       "(16807, 12005, 9031)"
      ]
     },
     "execution_count": 14,
     "metadata": {},
     "output_type": "execute_result"
    }
   ],
   "source": [
    "f.subs(x, 1),g.subs(x, 1),h.subs(x, 1)"
   ]
  },
  {
   "cell_type": "code",
   "execution_count": 22,
   "id": "4f8d4b45",
   "metadata": {},
   "outputs": [
    {
     "data": {
      "text/latex": [
       "$\\displaystyle 36$"
      ],
      "text/plain": [
       "36"
      ]
     },
     "execution_count": 22,
     "metadata": {},
     "output_type": "execute_result"
    }
   ],
   "source": [
    "k.subs({x:1, y:2, z:3})"
   ]
  },
  {
   "cell_type": "code",
   "execution_count": 23,
   "id": "2ae76a06",
   "metadata": {},
   "outputs": [
    {
     "data": {
      "text/latex": [
       "$\\displaystyle 60$"
      ],
      "text/plain": [
       "60"
      ]
     },
     "execution_count": 23,
     "metadata": {},
     "output_type": "execute_result"
    }
   ],
   "source": [
    "o.subs({x:1, y:2, z:3})"
   ]
  },
  {
   "cell_type": "code",
   "execution_count": 24,
   "id": "b60de0eb",
   "metadata": {},
   "outputs": [
    {
     "data": {
      "text/latex": [
       "$\\displaystyle 9031$"
      ],
      "text/plain": [
       "9031"
      ]
     },
     "execution_count": 24,
     "metadata": {},
     "output_type": "execute_result"
    }
   ],
   "source": [
    "g.integrate((x,0,1))"
   ]
  },
  {
   "cell_type": "code",
   "execution_count": 26,
   "id": "f0f280f1",
   "metadata": {},
   "outputs": [
    {
     "data": {
      "text/latex": [
       "$\\displaystyle 9031$"
      ],
      "text/plain": [
       "9031"
      ]
     },
     "execution_count": 26,
     "metadata": {},
     "output_type": "execute_result"
    }
   ],
   "source": [
    "h.subs(x,1) - h.subs(x,0)"
   ]
  },
  {
   "cell_type": "code",
   "execution_count": 27,
   "id": "e4bb9bba",
   "metadata": {},
   "outputs": [
    {
     "data": {
      "text/plain": [
       "True"
      ]
     },
     "execution_count": 27,
     "metadata": {},
     "output_type": "execute_result"
    }
   ],
   "source": [
    "h.subs(x,1) - h.subs(x,0) == g.integrate((x,0,1))"
   ]
  },
  {
   "cell_type": "code",
   "execution_count": 29,
   "id": "357616b0",
   "metadata": {},
   "outputs": [
    {
     "data": {
      "text/latex": [
       "$\\displaystyle 1048576$"
      ],
      "text/plain": [
       "1048576"
      ]
     },
     "execution_count": 29,
     "metadata": {},
     "output_type": "execute_result"
    }
   ],
   "source": [
    "sm.limit(f,x,10)"
   ]
  },
  {
   "cell_type": "code",
   "execution_count": 30,
   "id": "b3d9ffdf",
   "metadata": {},
   "outputs": [
    {
     "data": {
      "text/latex": [
       "$\\displaystyle \\infty$"
      ],
      "text/plain": [
       "oo"
      ]
     },
     "execution_count": 30,
     "metadata": {},
     "output_type": "execute_result"
    }
   ],
   "source": [
    "sm.limit(f,x,sm.oo)"
   ]
  },
  {
   "cell_type": "code",
   "execution_count": 34,
   "id": "71b2b620",
   "metadata": {},
   "outputs": [
    {
     "data": {
      "text/plain": [
       "(x**5 + 30*x**4 + 360*x**3 + 2160*x**2 + 6480*x + 7776,\n",
       " 5*x**4 + 120*x**3 + 1080*x**2 + 4320*x + 6480,\n",
       " x*(x**4 + 30*x**3 + 360*x**2 + 2160*x + 6480),\n",
       " (x + y + z)**2,\n",
       " x**2*y + x**2*z + x*y**2 + 2*x*y*z + x*z**2 + y**2*z + y*z**2)"
      ]
     },
     "execution_count": 34,
     "metadata": {},
     "output_type": "execute_result"
    }
   ],
   "source": [
    "f.simplify(), g.simplify(), h.simplify(), k.simplify(), o.simplify()"
   ]
  },
  {
   "cell_type": "code",
   "execution_count": 36,
   "id": "94aa06cd",
   "metadata": {},
   "outputs": [
    {
     "data": {
      "text/latex": [
       "$\\displaystyle \\frac{\\sin{\\left(θ \\right)}}{θ}$"
      ],
      "text/plain": [
       "sin(θ)/θ"
      ]
     },
     "execution_count": 36,
     "metadata": {},
     "output_type": "execute_result"
    }
   ],
   "source": [
    "θ = sm.symbols('θ')\n",
    "theta = sm.sin(θ) / θ\n",
    "theta"
   ]
  },
  {
   "cell_type": "code",
   "execution_count": null,
   "id": "2a413285",
   "metadata": {},
   "outputs": [],
   "source": []
  }
 ],
 "metadata": {
  "kernelspec": {
   "display_name": "Python 3",
   "language": "python",
   "name": "python3"
  },
  "language_info": {
   "codemirror_mode": {
    "name": "ipython",
    "version": 3
   },
   "file_extension": ".py",
   "mimetype": "text/x-python",
   "name": "python",
   "nbconvert_exporter": "python",
   "pygments_lexer": "ipython3",
   "version": "3.8.8"
  }
 },
 "nbformat": 4,
 "nbformat_minor": 5
}
