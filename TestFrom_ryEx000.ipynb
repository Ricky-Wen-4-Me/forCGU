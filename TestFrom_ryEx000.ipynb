{
 "cells": [
  {
   "cell_type": "code",
   "execution_count": 1,
   "id": "885dae6f-f0bf-4f3a-889e-1726e87bc98f",
   "metadata": {},
   "outputs": [
    {
     "data": {
      "text/plain": [
       "(1, 2, 3)"
      ]
     },
     "execution_count": 1,
     "metadata": {},
     "output_type": "execute_result"
    }
   ],
   "source": [
    "x = 1\n",
    "y = 2\n",
    "z = x+y\n",
    "\n",
    "x, y, z"
   ]
  },
  {
   "cell_type": "code",
   "execution_count": 2,
   "id": "86b25084-aeac-4ec2-9d26-a84aeea56a9e",
   "metadata": {},
   "outputs": [
    {
     "data": {
      "text/plain": [
       "3"
      ]
     },
     "execution_count": 2,
     "metadata": {},
     "output_type": "execute_result"
    }
   ],
   "source": [
    "def f(x,y):\n",
    "    z= x+y\n",
    "    return z\n",
    "\n",
    "f(1, 2)"
   ]
  },
  {
   "cell_type": "code",
   "execution_count": 3,
   "id": "2c8aef35-f634-43b6-ac19-ea202815a7a9",
   "metadata": {},
   "outputs": [
    {
     "data": {
      "text/plain": [
       "(3, -1, 2, 0.5)"
      ]
     },
     "execution_count": 3,
     "metadata": {},
     "output_type": "execute_result"
    }
   ],
   "source": [
    "def add(x,y):\n",
    "    z= x+y\n",
    "    return z\n",
    "def sub(x,y):\n",
    "    z= x-y\n",
    "    return z\n",
    "def mul(x,y):\n",
    "    z= x*y\n",
    "    return z\n",
    "def div(x,y):\n",
    "    z= x/y\n",
    "    return z\n",
    "\n",
    "a= add(1,2)\n",
    "s= sub(1,2)\n",
    "m= mul(1,2)\n",
    "d= div(1,2)\n",
    "a,s,m,d"
   ]
  },
  {
   "cell_type": "code",
   "execution_count": 4,
   "id": "388e9cf5-08d3-4105-a374-37d88f14d5bc",
   "metadata": {},
   "outputs": [
    {
     "data": {
      "text/plain": [
       "(<__main__.Number at 0x257ec46b1f0>, 100, 101, 99, 100, 100.0)"
      ]
     },
     "execution_count": 4,
     "metadata": {},
     "output_type": "execute_result"
    }
   ],
   "source": [
    "class Number:\n",
    "    \n",
    "    def __init__(self,x=0):\n",
    "        self.x= x\n",
    "        \n",
    "    def add(self,y):\n",
    "        z= self.x + y\n",
    "        return z\n",
    "    \n",
    "    def sub(self,y):\n",
    "        z= self.x - y\n",
    "        return z\n",
    "    \n",
    "    def mul(self,y):\n",
    "        z= self.x * y\n",
    "        return z\n",
    "    \n",
    "    def div(self,y):\n",
    "        z= self.x / y\n",
    "        return z\n",
    "\n",
    "n= Number(100)\n",
    "a= n.add(1)\n",
    "s= n.sub(1)\n",
    "m= n.mul(1)\n",
    "d= n.div(1)\n",
    "n, n.x, a, s, m, d"
   ]
  },
  {
   "cell_type": "code",
   "execution_count": 5,
   "id": "dac966dd-3d81-4822-9e35-f5810a886937",
   "metadata": {},
   "outputs": [],
   "source": [
    "n= Number(100)"
   ]
  },
  {
   "cell_type": "code",
   "execution_count": 6,
   "id": "ac74914e-6ad5-4a3b-9d1c-359539d0b71c",
   "metadata": {},
   "outputs": [],
   "source": [
    "class Number:\n",
    "    \n",
    "    def __init__(self,x=0):\n",
    "        self.x= x\n",
    "        \n",
    "n= Number(0)"
   ]
  },
  {
   "cell_type": "code",
   "execution_count": 7,
   "id": "1e6e88fe-e941-4115-a74e-2d34ef5d0e69",
   "metadata": {},
   "outputs": [
    {
     "data": {
      "text/plain": [
       "<__main__.Number at 0x257ec45a1f0>"
      ]
     },
     "execution_count": 7,
     "metadata": {},
     "output_type": "execute_result"
    }
   ],
   "source": [
    "n"
   ]
  },
  {
   "cell_type": "code",
   "execution_count": 8,
   "id": "fa30eafb-3842-4137-8a33-70596caaaaf5",
   "metadata": {},
   "outputs": [
    {
     "data": {
      "text/plain": [
       "(<__main__.Number at 0x257ec46b9d0>, 100, 101, 99, 100, 100.0)"
      ]
     },
     "execution_count": 8,
     "metadata": {},
     "output_type": "execute_result"
    }
   ],
   "source": [
    "class Number:\n",
    "    \n",
    "    def __init__(self,x=0):\n",
    "        self.x= x\n",
    "        \n",
    "    def add(self,y):\n",
    "        z= self.x + y\n",
    "        return z\n",
    "    \n",
    "    def sub(self,y):\n",
    "        z= self.x - y\n",
    "        return z\n",
    "    \n",
    "    def mul(self,y):\n",
    "        z= self.x * y\n",
    "        return z\n",
    "    \n",
    "    def div(self,y):\n",
    "        z= self.x / y\n",
    "        return z\n",
    "\n",
    "n= Number(100)\n",
    "a= n.add(1)\n",
    "s= n.sub(1)\n",
    "m= n.mul(1)\n",
    "d= n.div(1)\n",
    "n, n.x, a, s, m, d"
   ]
  },
  {
   "cell_type": "code",
   "execution_count": 9,
   "id": "5c21bcb5-4348-491e-9236-670920827601",
   "metadata": {},
   "outputs": [
    {
     "data": {
      "text/plain": [
       "(<__main__.Number at 0x257ec46bdf0>, 100, 101, 99, 100, 100.0)"
      ]
     },
     "execution_count": 9,
     "metadata": {},
     "output_type": "execute_result"
    }
   ],
   "source": [
    "class Number(Number):\n",
    "        \n",
    "    def __add__(self,y):\n",
    "        z= self.add(y)\n",
    "        return z\n",
    "    def __sub__(self,y):\n",
    "        z= self.sub(y)\n",
    "        return z\n",
    "    def __mul__(self,y):\n",
    "        z= self.mul(y)\n",
    "        return z\n",
    "    def __truediv__(self,y): # 這個除法的名稱比較特殊\n",
    "        z= self.div(y)\n",
    "        return z\n",
    "\n",
    "\n",
    "n= Number(100)\n",
    "a= n.add(1)\n",
    "s= n.sub(1)\n",
    "m= n.mul(1)\n",
    "d= n.div(1)\n",
    "n, n.x, a, s, m, d"
   ]
  },
  {
   "cell_type": "code",
   "execution_count": 10,
   "id": "ebf6c113-0e8e-45b2-88ff-35043f24939d",
   "metadata": {},
   "outputs": [
    {
     "data": {
      "text/plain": [
       "(<__main__.Number at 0x257ec46bdf0>, 100, 102, 98, 200, 50.0)"
      ]
     },
     "execution_count": 10,
     "metadata": {},
     "output_type": "execute_result"
    }
   ],
   "source": [
    "a= n.__add__(2)\n",
    "s= n.__sub__(2)\n",
    "m= n.__mul__(2)\n",
    "d= n.__truediv__(2)\n",
    "n, n.x, a, s, m, d"
   ]
  },
  {
   "cell_type": "code",
   "execution_count": 11,
   "id": "c8319e8e-b6e7-4834-8f35-e30bdccc42fe",
   "metadata": {},
   "outputs": [
    {
     "data": {
      "text/plain": [
       "(<__main__.Number at 0x257ec46bdf0>, 100, 102, 98, 200, 50.0)"
      ]
     },
     "execution_count": 11,
     "metadata": {},
     "output_type": "execute_result"
    }
   ],
   "source": [
    "a= n+2\n",
    "s= n-2\n",
    "m= n*2\n",
    "d= n/2\n",
    "n, n.x, a, s, m, d"
   ]
  },
  {
   "cell_type": "code",
   "execution_count": 12,
   "id": "ae8ffc7f-44fa-4b7c-8d62-cd3242a727d8",
   "metadata": {},
   "outputs": [
    {
     "data": {
      "text/plain": [
       "[1, 2, 3, 10, 20, 30]"
      ]
     },
     "execution_count": 12,
     "metadata": {},
     "output_type": "execute_result"
    }
   ],
   "source": [
    "x= [1,2,3]\n",
    "y= [10,20,30]\n",
    "x+y"
   ]
  },
  {
   "cell_type": "code",
   "execution_count": 1,
   "id": "f15c7e6c-326d-44d7-8763-10a7bae717bb",
   "metadata": {},
   "outputs": [
    {
     "ename": "NameError",
     "evalue": "name 'x' is not defined",
     "output_type": "error",
     "traceback": [
      "\u001b[1;31m---------------------------------------------------------------------------\u001b[0m",
      "\u001b[1;31mNameError\u001b[0m                                 Traceback (most recent call last)",
      "\u001b[1;32m<ipython-input-1-83495f0e569d>\u001b[0m in \u001b[0;36m<module>\u001b[1;34m\u001b[0m\n\u001b[1;32m----> 1\u001b[1;33m \u001b[0mx\u001b[0m\u001b[1;33m-\u001b[0m\u001b[0my\u001b[0m\u001b[1;33m,\u001b[0m \u001b[0mx\u001b[0m\u001b[1;33m*\u001b[0m\u001b[0my\u001b[0m\u001b[1;33m,\u001b[0m \u001b[0mx\u001b[0m\u001b[1;33m/\u001b[0m\u001b[0my\u001b[0m\u001b[1;33m\u001b[0m\u001b[1;33m\u001b[0m\u001b[0m\n\u001b[0m",
      "\u001b[1;31mNameError\u001b[0m: name 'x' is not defined"
     ]
    }
   ],
   "source": [
    "x-y, x*y, x/y"
   ]
  },
  {
   "cell_type": "code",
   "execution_count": 2,
   "id": "0243c52e-de29-4081-8c83-da7aed65c09d",
   "metadata": {},
   "outputs": [
    {
     "data": {
      "text/plain": [
       "[11, 22, 33, 44]"
      ]
     },
     "execution_count": 2,
     "metadata": {},
     "output_type": "execute_result"
    }
   ],
   "source": [
    "class Vector:\n",
    "    def __init__(self, x):\n",
    "        self.x= x\n",
    "        \n",
    "    def add(self,y):    \n",
    "        z= [xi+yi for xi,yi in zip(self.x, y)]\n",
    "        return z\n",
    "\n",
    "v= Vector([1,2,3,4])\n",
    "v.add([10,20,30,40])"
   ]
  },
  {
   "cell_type": "code",
   "execution_count": 3,
   "id": "964e16f4-a64c-4722-b607-fdd3aacee911",
   "metadata": {},
   "outputs": [
    {
     "data": {
      "text/plain": [
       "(<__main__.Vector at 0x1dbc6f72190>, [1, 2, 3, 4])"
      ]
     },
     "execution_count": 3,
     "metadata": {},
     "output_type": "execute_result"
    }
   ],
   "source": [
    "class Vector:\n",
    "    def __init__(self, x):\n",
    "        self.x= x\n",
    "        \n",
    "    def add(self,y):    \n",
    "        z= [xi+yi for xi,yi in zip(self.x, y)]\n",
    "        return z\n",
    "    def sub(self,y):    \n",
    "        z= [xi-yi for xi,yi in zip(self.x, y)]\n",
    "        return z\n",
    "    def mul(self,y):    \n",
    "        z= [xi*yi for xi,yi in zip(self.x, y)]\n",
    "        return z\n",
    "    def div(self,y):    \n",
    "        z= [xi/yi for xi,yi in zip(self.x, y)]\n",
    "        return z\n",
    "    \n",
    "    def __add__(self,y):    \n",
    "        z= self.add(y)\n",
    "        return z\n",
    "    def __sub__(self,y):    \n",
    "        z= self.sub(y)\n",
    "        return z\n",
    "    def __mul__(self,y):    \n",
    "        z= self.mul(y)\n",
    "        return z\n",
    "    def __truediv__(self,y):    \n",
    "        z= self.div(y)\n",
    "        return z\n",
    "\n",
    "v= Vector([1,2,3,4])\n",
    "v, v.x"
   ]
  },
  {
   "cell_type": "code",
   "execution_count": 5,
   "id": "da206882",
   "metadata": {},
   "outputs": [
    {
     "data": {
      "text/plain": [
       "([1, 2, 3, 4],\n",
       " [11, 22, 33, 44],\n",
       " [-9, -18, -27, -36],\n",
       " [10, 40, 90, 160],\n",
       " [0.1, 0.1, 0.1, 0.1])"
      ]
     },
     "execution_count": 5,
     "metadata": {},
     "output_type": "execute_result"
    }
   ],
   "source": [
    "a= v + [10,20,30,40]\n",
    "s= v - [10,20,30,40]\n",
    "m= v * [10,20,30,40]\n",
    "d= v / [10,20,30,40]\n",
    "v.x, a, s, m, d"
   ]
  },
  {
   "cell_type": "code",
   "execution_count": 6,
   "id": "ef681d1a",
   "metadata": {},
   "outputs": [
    {
     "data": {
      "text/plain": [
       "[1, 2, 3, 4]"
      ]
     },
     "execution_count": 6,
     "metadata": {},
     "output_type": "execute_result"
    }
   ],
   "source": [
    "import numpy as np\n",
    "\n",
    "v= [1, 2, 3, 4]\n",
    "v"
   ]
  },
  {
   "cell_type": "code",
   "execution_count": 7,
   "id": "568ccaad",
   "metadata": {},
   "outputs": [
    {
     "data": {
      "text/plain": [
       "array([1, 2, 3, 4])"
      ]
     },
     "execution_count": 7,
     "metadata": {},
     "output_type": "execute_result"
    }
   ],
   "source": [
    "v= np.array(v)\n",
    "v"
   ]
  },
  {
   "cell_type": "code",
   "execution_count": 8,
   "id": "de3620e8",
   "metadata": {},
   "outputs": [
    {
     "data": {
      "text/plain": [
       "(4,)"
      ]
     },
     "execution_count": 8,
     "metadata": {},
     "output_type": "execute_result"
    }
   ],
   "source": [
    "v.shape"
   ]
  },
  {
   "cell_type": "code",
   "execution_count": 9,
   "id": "50acd144",
   "metadata": {},
   "outputs": [
    {
     "data": {
      "text/plain": [
       "[[1, 2, 3, 4], [5, 6, 7, 8]]"
      ]
     },
     "execution_count": 9,
     "metadata": {},
     "output_type": "execute_result"
    }
   ],
   "source": [
    "A= [[1,2,3,4],\n",
    "    [5,6,7,8]]\n",
    "A"
   ]
  },
  {
   "cell_type": "code",
   "execution_count": 10,
   "id": "31a303d5",
   "metadata": {},
   "outputs": [
    {
     "data": {
      "text/plain": [
       "array([[1, 2, 3, 4],\n",
       "       [5, 6, 7, 8]])"
      ]
     },
     "execution_count": 10,
     "metadata": {},
     "output_type": "execute_result"
    }
   ],
   "source": [
    "A= np.array(A)\n",
    "A"
   ]
  },
  {
   "cell_type": "code",
   "execution_count": 11,
   "id": "e9b17c86",
   "metadata": {},
   "outputs": [
    {
     "data": {
      "text/plain": [
       "(2, 4)"
      ]
     },
     "execution_count": 11,
     "metadata": {},
     "output_type": "execute_result"
    }
   ],
   "source": [
    "A.shape"
   ]
  },
  {
   "cell_type": "code",
   "execution_count": 12,
   "id": "359a6e69",
   "metadata": {},
   "outputs": [
    {
     "data": {
      "text/plain": [
       "[[1, 2, 3, 4], [5, 6, 7, 8], [9, 10, 11, 12], [13, 14, 15, 16]]"
      ]
     },
     "execution_count": 12,
     "metadata": {},
     "output_type": "execute_result"
    }
   ],
   "source": [
    "T=[[1,2,3,4],\n",
    "   [5,6,7,8],\n",
    "   [9,10,11,12],\n",
    "   [13,14,15,16]]\n",
    "T"
   ]
  },
  {
   "cell_type": "code",
   "execution_count": 13,
   "id": "69241b9c",
   "metadata": {},
   "outputs": [
    {
     "data": {
      "text/plain": [
       "array([[ 1,  2,  3,  4],\n",
       "       [ 5,  6,  7,  8],\n",
       "       [ 9, 10, 11, 12],\n",
       "       [13, 14, 15, 16]])"
      ]
     },
     "execution_count": 13,
     "metadata": {},
     "output_type": "execute_result"
    }
   ],
   "source": [
    "T= np.array(T)\n",
    "T"
   ]
  },
  {
   "cell_type": "code",
   "execution_count": 14,
   "id": "c143cf41",
   "metadata": {},
   "outputs": [
    {
     "data": {
      "text/plain": [
       "(4, 4)"
      ]
     },
     "execution_count": 14,
     "metadata": {},
     "output_type": "execute_result"
    }
   ],
   "source": [
    "T.shape"
   ]
  },
  {
   "cell_type": "code",
   "execution_count": 15,
   "id": "fb2dcaad",
   "metadata": {},
   "outputs": [
    {
     "data": {
      "text/plain": [
       "array([[[ 1,  2,  3,  4],\n",
       "        [ 5,  6,  7,  8]],\n",
       "\n",
       "       [[ 9, 10, 11, 12],\n",
       "        [13, 14, 15, 16]]])"
      ]
     },
     "execution_count": 15,
     "metadata": {},
     "output_type": "execute_result"
    }
   ],
   "source": [
    "T= T.reshape((2,2,4))\n",
    "T"
   ]
  },
  {
   "cell_type": "code",
   "execution_count": 16,
   "id": "c8658c2b",
   "metadata": {},
   "outputs": [
    {
     "data": {
      "text/plain": [
       "(2, 2, 4)"
      ]
     },
     "execution_count": 16,
     "metadata": {},
     "output_type": "execute_result"
    }
   ],
   "source": [
    "T.shape"
   ]
  },
  {
   "cell_type": "code",
   "execution_count": 18,
   "id": "8e4ac910",
   "metadata": {},
   "outputs": [
    {
     "data": {
      "text/plain": [
       "array([[1, 2, 3, 4],\n",
       "       [5, 6, 7, 8]])"
      ]
     },
     "execution_count": 18,
     "metadata": {},
     "output_type": "execute_result"
    }
   ],
   "source": [
    "T[0]"
   ]
  },
  {
   "cell_type": "code",
   "execution_count": 19,
   "id": "51cd91cc",
   "metadata": {},
   "outputs": [
    {
     "data": {
      "text/plain": [
       "array([[ 9, 10, 11, 12],\n",
       "       [13, 14, 15, 16]])"
      ]
     },
     "execution_count": 19,
     "metadata": {},
     "output_type": "execute_result"
    }
   ],
   "source": [
    "T[1]"
   ]
  },
  {
   "cell_type": "code",
   "execution_count": 20,
   "id": "4f7fb8f5",
   "metadata": {},
   "outputs": [
    {
     "data": {
      "text/plain": [
       "(1, 2, 3)"
      ]
     },
     "execution_count": 20,
     "metadata": {},
     "output_type": "execute_result"
    }
   ],
   "source": [
    "v.ndim, A.ndim, T.ndim"
   ]
  },
  {
   "cell_type": "code",
   "execution_count": 21,
   "id": "bb12d71e",
   "metadata": {},
   "outputs": [
    {
     "data": {
      "text/plain": [
       "array([[[[ 1,  2],\n",
       "         [ 3,  4]],\n",
       "\n",
       "        [[ 5,  6],\n",
       "         [ 7,  8]]],\n",
       "\n",
       "\n",
       "       [[[ 9, 10],\n",
       "         [11, 12]],\n",
       "\n",
       "        [[13, 14],\n",
       "         [15, 16]]]])"
      ]
     },
     "execution_count": 21,
     "metadata": {},
     "output_type": "execute_result"
    }
   ],
   "source": [
    "T4d= T.reshape(2,2,2,2)\n",
    "T4d"
   ]
  },
  {
   "cell_type": "code",
   "execution_count": 22,
   "id": "72a06383",
   "metadata": {},
   "outputs": [
    {
     "data": {
      "text/plain": [
       "(2, 2, 2, 2)"
      ]
     },
     "execution_count": 22,
     "metadata": {},
     "output_type": "execute_result"
    }
   ],
   "source": [
    "T4d.shape"
   ]
  },
  {
   "cell_type": "code",
   "execution_count": 23,
   "id": "84737fb9",
   "metadata": {},
   "outputs": [
    {
     "data": {
      "text/plain": [
       "(array([1, 2, 3, 4]),\n",
       " array([[1, 2, 3, 4],\n",
       "        [5, 6, 7, 8]]),\n",
       " array([[[ 1,  2,  3,  4],\n",
       "         [ 5,  6,  7,  8]],\n",
       " \n",
       "        [[ 9, 10, 11, 12],\n",
       "         [13, 14, 15, 16]]]),\n",
       " array([[[[ 1,  2],\n",
       "          [ 3,  4]],\n",
       " \n",
       "         [[ 5,  6],\n",
       "          [ 7,  8]]],\n",
       " \n",
       " \n",
       "        [[[ 9, 10],\n",
       "          [11, 12]],\n",
       " \n",
       "         [[13, 14],\n",
       "          [15, 16]]]]))"
      ]
     },
     "execution_count": 23,
     "metadata": {},
     "output_type": "execute_result"
    }
   ],
   "source": [
    "v, A, T, T4d"
   ]
  },
  {
   "cell_type": "code",
   "execution_count": 24,
   "id": "a7de6130",
   "metadata": {},
   "outputs": [
    {
     "data": {
      "text/plain": [
       "array([1, 2, 3, 4])"
      ]
     },
     "execution_count": 24,
     "metadata": {},
     "output_type": "execute_result"
    }
   ],
   "source": [
    "v"
   ]
  },
  {
   "cell_type": "code",
   "execution_count": 25,
   "id": "53b8797a",
   "metadata": {},
   "outputs": [
    {
     "data": {
      "text/plain": [
       "array([[1, 2, 3, 4]])"
      ]
     },
     "execution_count": 25,
     "metadata": {},
     "output_type": "execute_result"
    }
   ],
   "source": [
    "v14= v.reshape(1,4)\n",
    "v14"
   ]
  },
  {
   "cell_type": "code",
   "execution_count": 26,
   "id": "66f5fae0",
   "metadata": {},
   "outputs": [
    {
     "data": {
      "text/plain": [
       "array([[1],\n",
       "       [2],\n",
       "       [3],\n",
       "       [4]])"
      ]
     },
     "execution_count": 26,
     "metadata": {},
     "output_type": "execute_result"
    }
   ],
   "source": [
    "v41= v.reshape(4,1)\n",
    "v41"
   ]
  },
  {
   "cell_type": "code",
   "execution_count": 27,
   "id": "129c8486",
   "metadata": {},
   "outputs": [
    {
     "data": {
      "text/plain": [
       "((4,), (1, 4), (4, 1))"
      ]
     },
     "execution_count": 27,
     "metadata": {},
     "output_type": "execute_result"
    }
   ],
   "source": [
    "v.shape, v14.shape, v41.shape"
   ]
  },
  {
   "cell_type": "code",
   "execution_count": 28,
   "id": "61a8487d",
   "metadata": {},
   "outputs": [
    {
     "name": "stdout",
     "output_type": "stream",
     "text": [
      "I can show you the world\n"
     ]
    }
   ],
   "source": [
    "print(\"I can show you the world\")"
   ]
  },
  {
   "cell_type": "code",
   "execution_count": 29,
   "id": "a8fad844",
   "metadata": {},
   "outputs": [
    {
     "name": "stdout",
     "output_type": "stream",
     "text": [
      "數字訓練：\n"
     ]
    },
    {
     "data": {
      "text/plain": [
       "(3.333333333, '字串', 987654321000000)"
      ]
     },
     "execution_count": 29,
     "metadata": {},
     "output_type": "execute_result"
    }
   ],
   "source": [
    "print(\"數字訓練：\")\n",
    "\n",
    "x= 1\n",
    "y= 2\n",
    "z= x+y\n",
    "\n",
    "x,y,z\n",
    "\n",
    "q = 3.333333333\n",
    "r = '字串'\n",
    "s = 987654321 * 1000000\n",
    "\n",
    "q, r, s"
   ]
  },
  {
   "cell_type": "code",
   "execution_count": 30,
   "id": "cb7d4d9a",
   "metadata": {},
   "outputs": [
    {
     "data": {
      "text/plain": [
       "array([[1, 2, 3],\n",
       "       [4, 5, 6],\n",
       "       [7, 8, 9]])"
      ]
     },
     "execution_count": 30,
     "metadata": {},
     "output_type": "execute_result"
    }
   ],
   "source": [
    "import numpy as np\n",
    "\n",
    "array_x = np.array([[1,2,3],[4,5,6],[7,8,9]])\n",
    "\n",
    "array_x"
   ]
  },
  {
   "cell_type": "code",
   "execution_count": 31,
   "id": "968dba36",
   "metadata": {},
   "outputs": [
    {
     "data": {
      "text/plain": [
       "array([[ 1,  4,  9],\n",
       "       [16, 25, 36],\n",
       "       [49, 64, 81]])"
      ]
     },
     "execution_count": 31,
     "metadata": {},
     "output_type": "execute_result"
    }
   ],
   "source": [
    "array_x * array_x"
   ]
  },
  {
   "cell_type": "code",
   "execution_count": 32,
   "id": "5ddfce9a",
   "metadata": {},
   "outputs": [
    {
     "data": {
      "text/plain": [
       "array([1, 2, 3])"
      ]
     },
     "execution_count": 32,
     "metadata": {},
     "output_type": "execute_result"
    }
   ],
   "source": [
    "array_x[0]"
   ]
  },
  {
   "cell_type": "code",
   "execution_count": 33,
   "id": "f061d84c",
   "metadata": {},
   "outputs": [
    {
     "data": {
      "text/plain": [
       "1"
      ]
     },
     "execution_count": 33,
     "metadata": {},
     "output_type": "execute_result"
    }
   ],
   "source": [
    "array_x[0][0]"
   ]
  },
  {
   "cell_type": "code",
   "execution_count": 34,
   "id": "66162f21",
   "metadata": {},
   "outputs": [
    {
     "data": {
      "text/plain": [
       "45"
      ]
     },
     "execution_count": 34,
     "metadata": {},
     "output_type": "execute_result"
    }
   ],
   "source": [
    "array_x[0][0] * array_x[1][1] * array_x[2][2]"
   ]
  },
  {
   "cell_type": "code",
   "execution_count": 35,
   "id": "71cb69d2",
   "metadata": {},
   "outputs": [
    {
     "name": "stdout",
     "output_type": "stream",
     "text": [
      "1\n",
      "1\n",
      "1\n"
     ]
    }
   ],
   "source": [
    "for i in range(3):\n",
    "    print(array_x[0][0])"
   ]
  },
  {
   "cell_type": "code",
   "execution_count": 36,
   "id": "25423a53",
   "metadata": {},
   "outputs": [
    {
     "name": "stdout",
     "output_type": "stream",
     "text": [
      "1\n",
      "4\n",
      "7\n"
     ]
    }
   ],
   "source": [
    "for i in range(3):\n",
    "    print(array_x[i][0])"
   ]
  },
  {
   "cell_type": "code",
   "execution_count": 37,
   "id": "a1ce1769",
   "metadata": {},
   "outputs": [
    {
     "name": "stdout",
     "output_type": "stream",
     "text": [
      "1\n",
      "2\n",
      "3\n",
      "4\n",
      "5\n",
      "6\n",
      "7\n",
      "8\n",
      "9\n"
     ]
    }
   ],
   "source": [
    "for i in range(3):\n",
    "    for j in range(3):\n",
    "        print(array_x[i][j])"
   ]
  },
  {
   "cell_type": "code",
   "execution_count": 38,
   "id": "81cb05b0",
   "metadata": {},
   "outputs": [
    {
     "data": {
      "text/plain": [
       "45"
      ]
     },
     "execution_count": 38,
     "metadata": {},
     "output_type": "execute_result"
    }
   ],
   "source": [
    "z = 0\n",
    "\n",
    "for i in range(3):\n",
    "    for j in range(3):\n",
    "        z += array_x[i][j]\n",
    "        \n",
    "z"
   ]
  },
  {
   "cell_type": "code",
   "execution_count": 39,
   "id": "8b46c6d9",
   "metadata": {},
   "outputs": [
    {
     "data": {
      "text/plain": [
       "55"
      ]
     },
     "execution_count": 39,
     "metadata": {},
     "output_type": "execute_result"
    }
   ],
   "source": [
    "zz = 100\n",
    "\n",
    "for i in range(3):\n",
    "    for j in range(3):\n",
    "        zz -= array_x[i][j]\n",
    "        \n",
    "zz"
   ]
  },
  {
   "cell_type": "code",
   "execution_count": 40,
   "id": "6444cff4",
   "metadata": {},
   "outputs": [
    {
     "data": {
      "text/plain": [
       "362880"
      ]
     },
     "execution_count": 40,
     "metadata": {},
     "output_type": "execute_result"
    }
   ],
   "source": [
    "zzz = 1\n",
    "\n",
    "for i in range(3):\n",
    "    for j in range(3):\n",
    "        zzz *= array_x[i][j]\n",
    "        \n",
    "zzz"
   ]
  },
  {
   "cell_type": "code",
   "execution_count": 41,
   "id": "3a4915f0",
   "metadata": {},
   "outputs": [
    {
     "data": {
      "text/plain": [
       "0.02755456349206349"
      ]
     },
     "execution_count": 41,
     "metadata": {},
     "output_type": "execute_result"
    }
   ],
   "source": [
    "zzzz = 9999\n",
    "\n",
    "for i in range(3):\n",
    "    for j in range(3):\n",
    "        zzzz /= array_x[i][j]\n",
    "        \n",
    "zzzz"
   ]
  },
  {
   "cell_type": "code",
   "execution_count": null,
   "id": "7bc13b40",
   "metadata": {},
   "outputs": [],
   "source": []
  }
 ],
 "metadata": {
  "kernelspec": {
   "display_name": "Python 3",
   "language": "python",
   "name": "python3"
  },
  "language_info": {
   "codemirror_mode": {
    "name": "ipython",
    "version": 3
   },
   "file_extension": ".py",
   "mimetype": "text/x-python",
   "name": "python",
   "nbconvert_exporter": "python",
   "pygments_lexer": "ipython3",
   "version": "3.8.8"
  }
 },
 "nbformat": 4,
 "nbformat_minor": 5
}
