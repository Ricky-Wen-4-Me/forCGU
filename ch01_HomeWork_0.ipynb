{
 "cells": [
  {
   "cell_type": "code",
   "execution_count": 14,
   "id": "38e914f3",
   "metadata": {},
   "outputs": [],
   "source": [
    "import numpy.matlib\n",
    "import numpy as np\n",
    "\n",
    "#如果編號相同，其產生的亂數會固定\n",
    "#0是其編號\n",
    "np.random.seed(0) \n",
    "\n",
    "#A是一個3X3,其內部數值為-5到5之間亂數挑選的矩陣\n",
    "A = np.random.randint(-5,5,size=(3,3)) \n",
    "\n",
    "#B是一個5X5,其內部數值為-5到5之間亂數挑選的矩陣\n",
    "B = np.random.randint(-5,5,size=(5,5)) \n",
    "\n",
    "#C是一個10X10,其內部數值為-5到5之間亂數挑選的矩陣\n",
    "C = np.random.randint(-5,5,size=(10,10)) \n",
    "\n",
    "#如果編號相同，其產生的亂數會固定\n",
    "#1是其編號\n",
    "np.random.seed(1) \n",
    "\n",
    "#A_v是一個3X1,其內部數值為-5到5之間亂數挑選的矩陣\n",
    "A_v = np.random.randint(-5,5,size=(3,1)) \n",
    "\n",
    "#B_v是一個5X1,其內部數值為-5到5之間亂數挑選的矩陣\n",
    "B_v = np.random.randint(-5,5,size=(5,1)) \n",
    "\n",
    "#C_v是一個10X1,其內部數值為-5到5之間亂數挑選的矩陣\n",
    "C_v = np.random.randint(-5,5,size=(10,1)) "
   ]
  },
  {
   "cell_type": "code",
   "execution_count": 15,
   "id": "97bf7421",
   "metadata": {},
   "outputs": [],
   "source": [
    "#以下程式是在使用A矩陣當作方程式係數，A_v矩陣當作結果，以此計算變數\n",
    "#換句話說，假設ax+by = c\n",
    "#A = [a,b], A_v = c, x = [x,y]\n",
    "x = np.linalg.solve(A, A_v)\n",
    "y = np.linalg.solve(B, B_v)\n",
    "z = np.linalg.solve(C, C_v)"
   ]
  },
  {
   "cell_type": "code",
   "execution_count": 16,
   "id": "110fd8e1",
   "metadata": {},
   "outputs": [
    {
     "name": "stdout",
     "output_type": "stream",
     "text": [
      " \n",
      "\n",
      "A = [[ 0 -5 -2]\n",
      " [-2  2  4]\n",
      " [-2  0 -3]] \n",
      "\n",
      "A_v = [[0]\n",
      " [3]\n",
      " [4]] \n",
      "\n",
      "x = [[-1.75806452]\n",
      " [ 0.06451613]\n",
      " [-0.16129032]] \n",
      "\n",
      "\n"
     ]
    }
   ],
   "source": [
    "print( \n",
    "f''' \n",
    "\n",
    "A = {A} \n",
    "\n",
    "A_v = {A_v} \n",
    "\n",
    "x = {x} \n",
    "\n",
    "''') "
   ]
  },
  {
   "cell_type": "code",
   "execution_count": 17,
   "id": "18177750",
   "metadata": {},
   "outputs": [
    {
     "name": "stdout",
     "output_type": "stream",
     "text": [
      " \n",
      "\n",
      "B = [[-1  2  1  3  3]\n",
      " [-4  1  2  2  3]\n",
      " [-4  0  4  3  4]\n",
      " [-1 -2 -5 -2  0]\n",
      " [-5 -3 -2  3 -4]] \n",
      "\n",
      "B_v = [[ 0]\n",
      " [-5]\n",
      " [-5]\n",
      " [-4]\n",
      " [ 2]] \n",
      "\n",
      "y = [[ 1.14714424]\n",
      " [ 0.19167473]\n",
      " [-0.03775411]\n",
      " [ 1.32913843]\n",
      " [-1.06195547]] \n",
      "\n",
      "\n"
     ]
    }
   ],
   "source": [
    "print( \n",
    "f''' \n",
    "\n",
    "B = {B} \n",
    "\n",
    "B_v = {B_v} \n",
    "\n",
    "y = {y} \n",
    "\n",
    "''') "
   ]
  },
  {
   "cell_type": "code",
   "execution_count": 18,
   "id": "d2654fcf",
   "metadata": {},
   "outputs": [
    {
     "name": "stdout",
     "output_type": "stream",
     "text": [
      " \n",
      "\n",
      "C = [[-2 -2 -2  2 -5 -4  4  4 -5 -1]\n",
      " [ 2 -2 -3  2 -3 -5 -5 -1  0  0]\n",
      " [ 1  3 -1 -4 -1  4  3 -4 -4  2]\n",
      " [ 4  4 -2  1  2 -3 -5 -2  0  4]\n",
      " [-1 -1  1 -1 -1 -2 -1 -1  3 -1]\n",
      " [-2  2  0  0 -5 -4  0  4 -2 -5]\n",
      " [ 0 -5 -4 -3 -1 -3 -5 -2 -3 -5]\n",
      " [ 2  0  4 -5 -3  2 -3  4 -3 -2]\n",
      " [-2 -3 -2 -1 -4 -3  4 -4 -1  1]\n",
      " [ 3 -3 -2 -5 -5  1 -5  1 -2 -2]] \n",
      "\n",
      "C_v = [[ 1]\n",
      " [ 4]\n",
      " [-3]\n",
      " [-1]\n",
      " [ 0]\n",
      " [-3]\n",
      " [-1]\n",
      " [-3]\n",
      " [-1]\n",
      " [ 2]] \n",
      "\n",
      "z = [[-11.62300461]\n",
      " [  0.26798074]\n",
      " [ -1.06367675]\n",
      " [  1.09789592]\n",
      " [ -2.25909982]\n",
      " [  3.58724508]\n",
      " [ -6.84901921]\n",
      " [  0.69102148]\n",
      " [ -1.5110422 ]\n",
      " [  5.90293196]] \n",
      "\n",
      "\n"
     ]
    }
   ],
   "source": [
    "print( \n",
    "f''' \n",
    "\n",
    "C = {C} \n",
    "\n",
    "C_v = {C_v} \n",
    "\n",
    "z = {z} \n",
    "\n",
    "''') "
   ]
  },
  {
   "cell_type": "code",
   "execution_count": null,
   "id": "ece497cf",
   "metadata": {},
   "outputs": [],
   "source": []
  }
 ],
 "metadata": {
  "kernelspec": {
   "display_name": "Python 3",
   "language": "python",
   "name": "python3"
  },
  "language_info": {
   "codemirror_mode": {
    "name": "ipython",
    "version": 3
   },
   "file_extension": ".py",
   "mimetype": "text/x-python",
   "name": "python",
   "nbconvert_exporter": "python",
   "pygments_lexer": "ipython3",
   "version": "3.8.8"
  }
 },
 "nbformat": 4,
 "nbformat_minor": 5
}
