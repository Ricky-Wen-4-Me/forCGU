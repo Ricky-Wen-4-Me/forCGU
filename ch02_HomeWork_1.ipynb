{
 "cells": [
  {
   "cell_type": "code",
   "execution_count": 1,
   "id": "bae9d578",
   "metadata": {},
   "outputs": [],
   "source": [
    "import sympy as sp\n",
    "\n",
    "x = sp.symbols('x')"
   ]
  },
  {
   "cell_type": "code",
   "execution_count": 2,
   "id": "e7e1809b",
   "metadata": {},
   "outputs": [
    {
     "data": {
      "text/latex": [
       "$\\displaystyle x^{4} + x^{3} - x^{2} - x$"
      ],
      "text/plain": [
       "x**4 + x**3 - x**2 - x"
      ]
     },
     "execution_count": 2,
     "metadata": {},
     "output_type": "execute_result"
    }
   ],
   "source": [
    "y = x ** 4 + x ** 3 - x ** 2 - x\n",
    "y"
   ]
  },
  {
   "cell_type": "code",
   "execution_count": 13,
   "id": "259f3a8f",
   "metadata": {},
   "outputs": [
    {
     "data": {
      "text/latex": [
       "$\\displaystyle 4 x^{3} + 3 x^{2} - 2 x - 1$"
      ],
      "text/plain": [
       "4*x**3 + 3*x**2 - 2*x - 1"
      ]
     },
     "execution_count": 13,
     "metadata": {},
     "output_type": "execute_result"
    }
   ],
   "source": [
    "y_diff = y.diff(x)\n",
    "y_diff"
   ]
  },
  {
   "cell_type": "code",
   "execution_count": 14,
   "id": "2030aa06",
   "metadata": {},
   "outputs": [
    {
     "data": {
      "text/latex": [
       "$\\displaystyle \\frac{x^{5}}{5} + \\frac{x^{4}}{4} - \\frac{x^{3}}{3} - \\frac{x^{2}}{2}$"
      ],
      "text/plain": [
       "x**5/5 + x**4/4 - x**3/3 - x**2/2"
      ]
     },
     "execution_count": 14,
     "metadata": {},
     "output_type": "execute_result"
    }
   ],
   "source": [
    "y_integrate = y.integrate(x)\n",
    "y_integrate"
   ]
  },
  {
   "cell_type": "code",
   "execution_count": 16,
   "id": "9c893472",
   "metadata": {},
   "outputs": [],
   "source": [
    "%matplotlib qt\n",
    "\n",
    "\n",
    "\n",
    "figure = sp.plotting.plot(\n",
    "            y,\n",
    "            y_diff,\n",
    "            y_integrate,\n",
    "            (x, -1, 2.5),\n",
    "            xlabel = f'x',\n",
    "            ylabel = f'y',\n",
    "            title = f'y, y_diff, y_integrate',\n",
    "            show = False\n",
    "        )\n",
    "\n",
    "figure[0].line_color = 'green'\n",
    "figure[1].line_color = 'cyan'\n",
    "figure[2].line_color = 'blue'\n",
    "figure.legend = True\n",
    "figure.show()"
   ]
  },
  {
   "cell_type": "code",
   "execution_count": null,
   "id": "6f09aec8",
   "metadata": {},
   "outputs": [],
   "source": []
  }
 ],
 "metadata": {
  "kernelspec": {
   "display_name": "Python 3",
   "language": "python",
   "name": "python3"
  },
  "language_info": {
   "codemirror_mode": {
    "name": "ipython",
    "version": 3
   },
   "file_extension": ".py",
   "mimetype": "text/x-python",
   "name": "python",
   "nbconvert_exporter": "python",
   "pygments_lexer": "ipython3",
   "version": "3.8.8"
  }
 },
 "nbformat": 4,
 "nbformat_minor": 5
}
