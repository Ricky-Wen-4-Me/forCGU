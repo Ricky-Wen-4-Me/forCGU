{
 "cells": [
  {
   "cell_type": "code",
   "execution_count": 1,
   "id": "0cdae1d1",
   "metadata": {},
   "outputs": [],
   "source": [
    "import sympy as sm\n",
    "from matplotlib import pyplot as plt\n",
    "\n",
    "x, y = sm.symbols(\"x, y\")"
   ]
  },
  {
   "cell_type": "code",
   "execution_count": 2,
   "id": "c4263b20",
   "metadata": {},
   "outputs": [],
   "source": [
    "def f(x,y):\n",
    "    zx = (x-1)*(x+2)*(x-3)\n",
    "    zy = (y-1)*(y+2)*(y-3)\n",
    "    z = zx * zy\n",
    "    \n",
    "    return z"
   ]
  },
  {
   "cell_type": "code",
   "execution_count": 3,
   "id": "c52e7eb6",
   "metadata": {},
   "outputs": [
    {
     "data": {
      "text/latex": [
       "$\\displaystyle \\left(x - 3\\right) \\left(x - 1\\right) \\left(x + 2\\right) \\left(y - 3\\right) \\left(y - 1\\right) \\left(y + 2\\right)$"
      ],
      "text/plain": [
       "(x - 3)*(x - 1)*(x + 2)*(y - 3)*(y - 1)*(y + 2)"
      ]
     },
     "execution_count": 3,
     "metadata": {},
     "output_type": "execute_result"
    }
   ],
   "source": [
    "z = f(x, y)\n",
    "\n",
    "z"
   ]
  },
  {
   "cell_type": "code",
   "execution_count": 4,
   "id": "1116a545",
   "metadata": {},
   "outputs": [
    {
     "data": {
      "text/latex": [
       "$\\displaystyle x^{3} y^{3} - 2 x^{3} y^{2} - 5 x^{3} y + 6 x^{3} - 2 x^{2} y^{3} + 4 x^{2} y^{2} + 10 x^{2} y - 12 x^{2} - 5 x y^{3} + 10 x y^{2} + 25 x y - 30 x + 6 y^{3} - 12 y^{2} - 30 y + 36$"
      ],
      "text/plain": [
       "x**3*y**3 - 2*x**3*y**2 - 5*x**3*y + 6*x**3 - 2*x**2*y**3 + 4*x**2*y**2 + 10*x**2*y - 12*x**2 - 5*x*y**3 + 10*x*y**2 + 25*x*y - 30*x + 6*y**3 - 12*y**2 - 30*y + 36"
      ]
     },
     "execution_count": 4,
     "metadata": {},
     "output_type": "execute_result"
    }
   ],
   "source": [
    "z.expand()"
   ]
  },
  {
   "cell_type": "code",
   "execution_count": 5,
   "id": "231c49af",
   "metadata": {},
   "outputs": [
    {
     "data": {
      "text/latex": [
       "$\\displaystyle \\left(x - 3\\right) \\left(x - 1\\right) \\left(y - 3\\right) \\left(y - 1\\right) \\left(y + 2\\right) + \\left(x - 3\\right) \\left(x + 2\\right) \\left(y - 3\\right) \\left(y - 1\\right) \\left(y + 2\\right) + \\left(x - 1\\right) \\left(x + 2\\right) \\left(y - 3\\right) \\left(y - 1\\right) \\left(y + 2\\right)$"
      ],
      "text/plain": [
       "(x - 3)*(x - 1)*(y - 3)*(y - 1)*(y + 2) + (x - 3)*(x + 2)*(y - 3)*(y - 1)*(y + 2) + (x - 1)*(x + 2)*(y - 3)*(y - 1)*(y + 2)"
      ]
     },
     "execution_count": 5,
     "metadata": {},
     "output_type": "execute_result"
    }
   ],
   "source": [
    "dzx = z.diff(x)\n",
    "\n",
    "dzx"
   ]
  },
  {
   "cell_type": "code",
   "execution_count": 6,
   "id": "b1763095",
   "metadata": {},
   "outputs": [
    {
     "data": {
      "text/latex": [
       "$\\displaystyle \\left(x - 3\\right) \\left(x - 1\\right) \\left(x + 2\\right) \\left(y - 3\\right) \\left(y - 1\\right) + \\left(x - 3\\right) \\left(x - 1\\right) \\left(x + 2\\right) \\left(y - 3\\right) \\left(y + 2\\right) + \\left(x - 3\\right) \\left(x - 1\\right) \\left(x + 2\\right) \\left(y - 1\\right) \\left(y + 2\\right)$"
      ],
      "text/plain": [
       "(x - 3)*(x - 1)*(x + 2)*(y - 3)*(y - 1) + (x - 3)*(x - 1)*(x + 2)*(y - 3)*(y + 2) + (x - 3)*(x - 1)*(x + 2)*(y - 1)*(y + 2)"
      ]
     },
     "execution_count": 6,
     "metadata": {},
     "output_type": "execute_result"
    }
   ],
   "source": [
    "dzy = z.diff(y)\n",
    "\n",
    "dzy"
   ]
  },
  {
   "cell_type": "code",
   "execution_count": 7,
   "id": "6e837b3e",
   "metadata": {},
   "outputs": [],
   "source": [
    "eq1 = sm.Eq(dzx, 0)\n",
    "eq2 = sm.Eq(dzy, 0)"
   ]
  },
  {
   "cell_type": "code",
   "execution_count": 8,
   "id": "ddf286b6",
   "metadata": {},
   "outputs": [
    {
     "data": {
      "text/latex": [
       "$\\displaystyle \\left(x - 3\\right) \\left(x - 1\\right) \\left(y - 3\\right) \\left(y - 1\\right) \\left(y + 2\\right) + \\left(x - 3\\right) \\left(x + 2\\right) \\left(y - 3\\right) \\left(y - 1\\right) \\left(y + 2\\right) + \\left(x - 1\\right) \\left(x + 2\\right) \\left(y - 3\\right) \\left(y - 1\\right) \\left(y + 2\\right) = 0$"
      ],
      "text/plain": [
       "Eq((x - 3)*(x - 1)*(y - 3)*(y - 1)*(y + 2) + (x - 3)*(x + 2)*(y - 3)*(y - 1)*(y + 2) + (x - 1)*(x + 2)*(y - 3)*(y - 1)*(y + 2), 0)"
      ]
     },
     "execution_count": 8,
     "metadata": {},
     "output_type": "execute_result"
    }
   ],
   "source": [
    "eq1"
   ]
  },
  {
   "cell_type": "code",
   "execution_count": 9,
   "id": "9ebc8394",
   "metadata": {},
   "outputs": [
    {
     "data": {
      "text/latex": [
       "$\\displaystyle \\left(x - 3\\right) \\left(x - 1\\right) \\left(x + 2\\right) \\left(y - 3\\right) \\left(y - 1\\right) + \\left(x - 3\\right) \\left(x - 1\\right) \\left(x + 2\\right) \\left(y - 3\\right) \\left(y + 2\\right) + \\left(x - 3\\right) \\left(x - 1\\right) \\left(x + 2\\right) \\left(y - 1\\right) \\left(y + 2\\right) = 0$"
      ],
      "text/plain": [
       "Eq((x - 3)*(x - 1)*(x + 2)*(y - 3)*(y - 1) + (x - 3)*(x - 1)*(x + 2)*(y - 3)*(y + 2) + (x - 3)*(x - 1)*(x + 2)*(y - 1)*(y + 2), 0)"
      ]
     },
     "execution_count": 9,
     "metadata": {},
     "output_type": "execute_result"
    }
   ],
   "source": [
    "eq2"
   ]
  },
  {
   "cell_type": "code",
   "execution_count": 10,
   "id": "2cd02c97",
   "metadata": {},
   "outputs": [
    {
     "data": {
      "text/plain": [
       "[{x: -2, y: -2},\n",
       " {x: -2, y: 1},\n",
       " {x: -2, y: 3},\n",
       " {x: 1, y: -2},\n",
       " {x: 1, y: 1},\n",
       " {x: 1, y: 3},\n",
       " {x: 3, y: -2},\n",
       " {x: 3, y: 1},\n",
       " {x: 3, y: 3},\n",
       " {x: 2/3 - sqrt(19)/3, y: 2/3 - sqrt(19)/3},\n",
       " {x: 2/3 - sqrt(19)/3, y: 2/3 + sqrt(19)/3},\n",
       " {x: 2/3 + sqrt(19)/3, y: 2/3 - sqrt(19)/3},\n",
       " {x: 2/3 + sqrt(19)/3, y: 2/3 + sqrt(19)/3}]"
      ]
     },
     "execution_count": 10,
     "metadata": {},
     "output_type": "execute_result"
    }
   ],
   "source": [
    "Ans = sm.solve([eq1, eq2], x, y, \n",
    "         dict=True, \n",
    "        )\n",
    "Ans"
   ]
  },
  {
   "cell_type": "code",
   "execution_count": 12,
   "id": "f5f6bc3c",
   "metadata": {},
   "outputs": [],
   "source": [
    "%matplotlib qt\n",
    "\n",
    "q= sm.plotting.plot3d(\n",
    "   z,\n",
    "   (x,-30, 30), \n",
    "   (y,-30, 30),\n",
    "   xlabel= 'x',\n",
    "   ylabel= 'y',\n",
    "   title= f'z= f(x,y)= {z}',\n",
    "   show=False)\n",
    "\n",
    "q.show()"
   ]
  },
  {
   "cell_type": "code",
   "execution_count": null,
   "id": "24c042ba",
   "metadata": {},
   "outputs": [],
   "source": []
  }
 ],
 "metadata": {
  "kernelspec": {
   "display_name": "Python 3 (ipykernel)",
   "language": "python",
   "name": "python3"
  },
  "language_info": {
   "codemirror_mode": {
    "name": "ipython",
    "version": 3
   },
   "file_extension": ".py",
   "mimetype": "text/x-python",
   "name": "python",
   "nbconvert_exporter": "python",
   "pygments_lexer": "ipython3",
   "version": "3.9.7"
  }
 },
 "nbformat": 4,
 "nbformat_minor": 5
}
