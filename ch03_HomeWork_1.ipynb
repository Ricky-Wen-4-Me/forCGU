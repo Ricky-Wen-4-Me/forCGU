{
 "cells": [
  {
   "cell_type": "code",
   "execution_count": 1,
   "id": "9d4517ed",
   "metadata": {},
   "outputs": [],
   "source": [
    "from scipy.stats import binom\n",
    "import matplotlib.pyplot as plt\n",
    "import numpy as np"
   ]
  },
  {
   "cell_type": "code",
   "execution_count": 2,
   "id": "efee28d7",
   "metadata": {},
   "outputs": [
    {
     "data": {
      "image/png": "[encoded data removed]",
      "text/plain": [
       "<Figure size 432x288 with 1 Axes>"
      ]
     },
     "metadata": {
      "needs_background": "light"
     },
     "output_type": "display_data"
    }
   ],
   "source": [
    "fig, ax = plt.subplots(1, 1)"
   ]
  },
  {
   "cell_type": "markdown",
   "id": "00449661",
   "metadata": {},
   "source": [
    "# Binomial Distribution \n",
    "https://docs.scipy.org/doc/scipy/reference/reference/generated/scipy.stats.binom.html#scipy.stats.binom"
   ]
  },
  {
   "cell_type": "code",
   "execution_count": 3,
   "id": "88643d20",
   "metadata": {},
   "outputs": [
    {
     "data": {
      "text/plain": [
       "(array(6.), array(2.4), array(-0.12909944), array(-0.18333333))"
      ]
     },
     "execution_count": 3,
     "metadata": {},
     "output_type": "execute_result"
    }
   ],
   "source": [
    "n, p = 10, 0.6\n",
    "mean, var, skew, kurt = binom.stats(n, p, moments='mvsk')\n",
    "\n",
    "mean, var, skew, kurt"
   ]
  },
  {
   "cell_type": "code",
   "execution_count": 4,
   "id": "017b890a",
   "metadata": {},
   "outputs": [
    {
     "data": {
      "text/plain": [
       "<matplotlib.legend.Legend at 0x2966c94a5e0>"
      ]
     },
     "execution_count": 4,
     "metadata": {},
     "output_type": "execute_result"
    }
   ],
   "source": [
    "x = np.arange(binom.ppf(0.01, n, p),\n",
    "              binom.ppf(0.99, n, p))\n",
    "ax.plot(x, binom.pmf(x, n, p), 'bo', ms=8, label='binom pmf')\n",
    "ax.vlines(x, 0, binom.pmf(x, n, p), colors='b', lw=5, alpha=0.5)\n",
    "rv = binom(n, p)\n",
    "ax.vlines(x, 0, rv.pmf(x), colors='k', linestyles='-', lw=1,\n",
    "        label='frozen pmf')\n",
    "ax.legend(loc='best', frameon=False)"
   ]
  },
  {
   "cell_type": "code",
   "execution_count": 5,
   "id": "42596a3c",
   "metadata": {},
   "outputs": [
    {
     "data": {
      "text/plain": [
       "array([2., 3., 4., 5., 6., 7., 8.])"
      ]
     },
     "execution_count": 5,
     "metadata": {},
     "output_type": "execute_result"
    }
   ],
   "source": [
    "x"
   ]
  },
  {
   "cell_type": "code",
   "execution_count": 6,
   "id": "0c1ef43a",
   "metadata": {},
   "outputs": [
    {
     "data": {
      "image/png": "[encoded data removed]",
      "text/plain": [
       "<Figure size 432x288 with 1 Axes>"
      ]
     },
     "execution_count": 6,
     "metadata": {},
     "output_type": "execute_result"
    }
   ],
   "source": [
    "fig"
   ]
  },
  {
   "cell_type": "code",
   "execution_count": 7,
   "id": "07b18d01",
   "metadata": {},
   "outputs": [
    {
     "data": {
      "text/plain": [
       "True"
      ]
     },
     "execution_count": 7,
     "metadata": {},
     "output_type": "execute_result"
    }
   ],
   "source": [
    "prob = binom.cdf(x, n, p)\n",
    "np.allclose(x, binom.ppf(prob, n, p))"
   ]
  },
  {
   "cell_type": "code",
   "execution_count": 8,
   "id": "1cdde888",
   "metadata": {},
   "outputs": [
    {
     "data": {
      "text/plain": [
       "array([6, 5, 6, 5, 3, 6, 6, 5, 3, 7])"
      ]
     },
     "execution_count": 8,
     "metadata": {},
     "output_type": "execute_result"
    }
   ],
   "source": [
    "r = binom.rvs(n, p, size=10)\n",
    "r"
   ]
  },
  {
   "cell_type": "markdown",
   "id": "69635abe",
   "metadata": {},
   "source": [
    "# Poisson Distribution\n",
    "https://docs.scipy.org/doc/scipy/reference/reference/generated/scipy.stats.poisson.html#scipy.stats.poisson"
   ]
  },
  {
   "cell_type": "code",
   "execution_count": 9,
   "id": "5ee4a212",
   "metadata": {},
   "outputs": [],
   "source": [
    "from scipy.stats import poisson"
   ]
  },
  {
   "cell_type": "code",
   "execution_count": 10,
   "id": "3b734759",
   "metadata": {},
   "outputs": [
    {
     "data": {
      "image/png": "[encoded data removed]",
      "text/plain": [
       "<Figure size 432x288 with 1 Axes>"
      ]
     },
     "metadata": {
      "needs_background": "light"
     },
     "output_type": "display_data"
    }
   ],
   "source": [
    "fig, ax = plt.subplots(1, 1)"
   ]
  },
  {
   "cell_type": "code",
   "execution_count": 11,
   "id": "fda8c4c7",
   "metadata": {},
   "outputs": [
    {
     "data": {
      "text/plain": [
       "(array(0.75), array(0.75), array(1.15470054), array(1.33333333))"
      ]
     },
     "execution_count": 11,
     "metadata": {},
     "output_type": "execute_result"
    }
   ],
   "source": [
    "mu = 0.75\n",
    "mean, var, skew, kurt = poisson.stats(mu, moments='mvsk')\n",
    "\n",
    "mean, var, skew, kurt"
   ]
  },
  {
   "cell_type": "code",
   "execution_count": 12,
   "id": "8b2976cc",
   "metadata": {},
   "outputs": [
    {
     "data": {
      "text/plain": [
       "<matplotlib.legend.Legend at 0x2966d08d580>"
      ]
     },
     "execution_count": 12,
     "metadata": {},
     "output_type": "execute_result"
    }
   ],
   "source": [
    "x = np.arange(poisson.ppf(0.01, mu),\n",
    "              poisson.ppf(0.99, mu))\n",
    "ax.plot(x, poisson.pmf(x, mu), 'bo', ms=8, label='poisson pmf')\n",
    "ax.vlines(x, 0, poisson.pmf(x, mu), colors='b', lw=5, alpha=0.5)\n",
    "rv = poisson(mu)\n",
    "ax.vlines(x, 0, rv.pmf(x), colors='k', linestyles='-', lw=1,\n",
    "        label='frozen pmf')\n",
    "ax.legend(loc='best', frameon=False)"
   ]
  },
  {
   "cell_type": "code",
   "execution_count": 13,
   "id": "31fae1b9",
   "metadata": {},
   "outputs": [
    {
     "data": {
      "text/plain": [
       "array([0., 1., 2.])"
      ]
     },
     "execution_count": 13,
     "metadata": {},
     "output_type": "execute_result"
    }
   ],
   "source": [
    "x"
   ]
  },
  {
   "cell_type": "code",
   "execution_count": 14,
   "id": "63495d9e",
   "metadata": {},
   "outputs": [
    {
     "data": {
      "image/png": "[encoded data removed]",
      "text/plain": [
       "<Figure size 432x288 with 1 Axes>"
      ]
     },
     "execution_count": 14,
     "metadata": {},
     "output_type": "execute_result"
    }
   ],
   "source": [
    "fig"
   ]
  },
  {
   "cell_type": "code",
   "execution_count": 15,
   "id": "4101f33e",
   "metadata": {},
   "outputs": [
    {
     "data": {
      "text/plain": [
       "True"
      ]
     },
     "execution_count": 15,
     "metadata": {},
     "output_type": "execute_result"
    }
   ],
   "source": [
    "prob = poisson.cdf(x, mu)\n",
    "np.allclose(x, poisson.ppf(prob, mu))"
   ]
  },
  {
   "cell_type": "code",
   "execution_count": 16,
   "id": "2e787d59",
   "metadata": {},
   "outputs": [
    {
     "data": {
      "text/plain": [
       "array([1, 2, 1, 0, 1, 2, 0, 0, 3, 2])"
      ]
     },
     "execution_count": 16,
     "metadata": {},
     "output_type": "execute_result"
    }
   ],
   "source": [
    "r = poisson.rvs(mu, size=10)\n",
    "\n",
    "r"
   ]
  },
  {
   "cell_type": "markdown",
   "id": "4d59002d",
   "metadata": {},
   "source": [
    "# Discrete Uniform (randint) Distribution\n",
    "https://docs.scipy.org/doc/scipy/reference/reference/generated/scipy.stats.randint.html#scipy.stats.randint"
   ]
  },
  {
   "cell_type": "code",
   "execution_count": 17,
   "id": "ad84f2e1",
   "metadata": {},
   "outputs": [],
   "source": [
    "from scipy.stats import randint"
   ]
  },
  {
   "cell_type": "code",
   "execution_count": 18,
   "id": "4d5f0791",
   "metadata": {},
   "outputs": [
    {
     "data": {
      "image/png": "[encoded data removed]",
      "text/plain": [
       "<Figure size 432x288 with 1 Axes>"
      ]
     },
     "metadata": {
      "needs_background": "light"
     },
     "output_type": "display_data"
    }
   ],
   "source": [
    "fig, ax = plt.subplots(1, 1)"
   ]
  },
  {
   "cell_type": "code",
   "execution_count": 19,
   "id": "9d03d512",
   "metadata": {},
   "outputs": [
    {
     "data": {
      "text/plain": [
       "(array(29.5), array(242.91666667), array(0.), array(-1.20082333))"
      ]
     },
     "execution_count": 19,
     "metadata": {},
     "output_type": "execute_result"
    }
   ],
   "source": [
    "low, high = 3, 57\n",
    "mean, var, skew, kurt = randint.stats(low, high, moments='mvsk')\n",
    "\n",
    "mean, var, skew, kurt"
   ]
  },
  {
   "cell_type": "code",
   "execution_count": 20,
   "id": "672a34db",
   "metadata": {},
   "outputs": [
    {
     "data": {
      "text/plain": [
       "<matplotlib.legend.Legend at 0x2966e113b80>"
      ]
     },
     "execution_count": 20,
     "metadata": {},
     "output_type": "execute_result"
    }
   ],
   "source": [
    "x = np.arange(randint.ppf(0.01, low, high),\n",
    "              randint.ppf(0.99, low, high))\n",
    "ax.plot(x, randint.pmf(x, low, high), 'bo', ms=8, label='randint pmf')\n",
    "ax.vlines(x, 0, randint.pmf(x, low, high), colors='b', lw=5, alpha=0.5)\n",
    "rv = randint(low, high)\n",
    "ax.vlines(x, 0, rv.pmf(x), colors='k', linestyles='-', lw=1,\n",
    "        label='frozen pmf')\n",
    "ax.legend(loc='best', frameon=False)"
   ]
  },
  {
   "cell_type": "code",
   "execution_count": 21,
   "id": "f0fa5323",
   "metadata": {},
   "outputs": [
    {
     "data": {
      "text/plain": [
       "array([ 3.,  4.,  5.,  6.,  7.,  8.,  9., 10., 11., 12., 13., 14., 15.,\n",
       "       16., 17., 18., 19., 20., 21., 22., 23., 24., 25., 26., 27., 28.,\n",
       "       29., 30., 31., 32., 33., 34., 35., 36., 37., 38., 39., 40., 41.,\n",
       "       42., 43., 44., 45., 46., 47., 48., 49., 50., 51., 52., 53., 54.,\n",
       "       55.])"
      ]
     },
     "execution_count": 21,
     "metadata": {},
     "output_type": "execute_result"
    }
   ],
   "source": [
    "x"
   ]
  },
  {
   "cell_type": "code",
   "execution_count": 22,
   "id": "dbe79cf6",
   "metadata": {},
   "outputs": [
    {
     "data": {
      "image/png": "[encoded data removed]",
      "text/plain": [
       "<Figure size 432x288 with 1 Axes>"
      ]
     },
     "execution_count": 22,
     "metadata": {},
     "output_type": "execute_result"
    }
   ],
   "source": [
    "fig"
   ]
  },
  {
   "cell_type": "code",
   "execution_count": 23,
   "id": "ab065f9a",
   "metadata": {},
   "outputs": [
    {
     "data": {
      "text/plain": [
       "array([9, 6, 6, 6, 4, 7, 5, 4, 7, 8])"
      ]
     },
     "execution_count": 23,
     "metadata": {},
     "output_type": "execute_result"
    }
   ],
   "source": [
    "r = binom.rvs(n, p, size=10)\n",
    "\n",
    "r"
   ]
  },
  {
   "cell_type": "markdown",
   "id": "1cf7a4b3",
   "metadata": {},
   "source": [
    "# Uniform Distribution\n",
    "https://docs.scipy.org/doc/scipy/reference/reference/generated/scipy.stats.uniform.html#scipy.stats.uniform"
   ]
  },
  {
   "cell_type": "code",
   "execution_count": 24,
   "id": "686cd84f",
   "metadata": {},
   "outputs": [],
   "source": [
    "from scipy.stats import uniform"
   ]
  },
  {
   "cell_type": "code",
   "execution_count": 25,
   "id": "181cdc88",
   "metadata": {},
   "outputs": [
    {
     "data": {
      "image/png": "[encoded data removed]",
      "text/plain": [
       "<Figure size 432x288 with 1 Axes>"
      ]
     },
     "metadata": {
      "needs_background": "light"
     },
     "output_type": "display_data"
    }
   ],
   "source": [
    "fig, ax = plt.subplots(1, 1)"
   ]
  },
  {
   "cell_type": "code",
   "execution_count": 26,
   "id": "3a79ae0c",
   "metadata": {},
   "outputs": [
    {
     "data": {
      "text/plain": [
       "(array(0.5), array(0.08333333), array(0.), array(-1.2))"
      ]
     },
     "execution_count": 26,
     "metadata": {},
     "output_type": "execute_result"
    }
   ],
   "source": [
    "mean, var, skew, kurt = uniform.stats(moments='mvsk')\n",
    "\n",
    "mean, var, skew, kurt"
   ]
  },
  {
   "cell_type": "code",
   "execution_count": 27,
   "id": "c1aac430",
   "metadata": {},
   "outputs": [
    {
     "data": {
      "text/plain": [
       "<matplotlib.legend.Legend at 0x2966e24b550>"
      ]
     },
     "execution_count": 27,
     "metadata": {},
     "output_type": "execute_result"
    }
   ],
   "source": [
    "x = np.linspace(uniform.ppf(0.01),\n",
    "                uniform.ppf(0.99), 50)\n",
    "ax.plot(x, uniform.pdf(x),\n",
    "       'r-', lw=5, alpha=0.6, label='uniform pdf')\n",
    "rv = uniform()\n",
    "ax.plot(x, rv.pdf(x), 'k-', lw=2, label='frozen pdf')\n",
    "ax.hist(r, density=True, histtype='stepfilled', alpha=0.2)\n",
    "ax.legend(loc='best', frameon=False)"
   ]
  },
  {
   "cell_type": "code",
   "execution_count": 28,
   "id": "56884f84",
   "metadata": {},
   "outputs": [
    {
     "data": {
      "text/plain": [
       "array([0.01, 0.03, 0.05, 0.07, 0.09, 0.11, 0.13, 0.15, 0.17, 0.19, 0.21,\n",
       "       0.23, 0.25, 0.27, 0.29, 0.31, 0.33, 0.35, 0.37, 0.39, 0.41, 0.43,\n",
       "       0.45, 0.47, 0.49, 0.51, 0.53, 0.55, 0.57, 0.59, 0.61, 0.63, 0.65,\n",
       "       0.67, 0.69, 0.71, 0.73, 0.75, 0.77, 0.79, 0.81, 0.83, 0.85, 0.87,\n",
       "       0.89, 0.91, 0.93, 0.95, 0.97, 0.99])"
      ]
     },
     "execution_count": 28,
     "metadata": {},
     "output_type": "execute_result"
    }
   ],
   "source": [
    "x"
   ]
  },
  {
   "cell_type": "code",
   "execution_count": 29,
   "id": "809cc6c0",
   "metadata": {},
   "outputs": [
    {
     "data": {
      "image/png": "[encoded data removed]",
      "text/plain": [
       "<Figure size 432x288 with 1 Axes>"
      ]
     },
     "execution_count": 29,
     "metadata": {},
     "output_type": "execute_result"
    }
   ],
   "source": [
    "fig"
   ]
  },
  {
   "cell_type": "code",
   "execution_count": 30,
   "id": "67a47a83",
   "metadata": {},
   "outputs": [
    {
     "data": {
      "text/plain": [
       "True"
      ]
     },
     "execution_count": 30,
     "metadata": {},
     "output_type": "execute_result"
    }
   ],
   "source": [
    "vals = uniform.ppf([0.001, 0.5, 0.999])\n",
    "np.allclose([0.001, 0.5, 0.999], uniform.cdf(vals))"
   ]
  },
  {
   "cell_type": "code",
   "execution_count": 31,
   "id": "990addc7",
   "metadata": {},
   "outputs": [
    {
     "data": {
      "text/plain": [
       "array([0.71366647, 0.7736392 , 0.71361222, 0.86075356, 0.27908943,\n",
       "       0.67132427, 0.42447075, 0.61177499, 0.54566868, 0.79008346])"
      ]
     },
     "execution_count": 31,
     "metadata": {},
     "output_type": "execute_result"
    }
   ],
   "source": [
    "r = uniform.rvs(size=10)\n",
    "\n",
    "r"
   ]
  },
  {
   "cell_type": "markdown",
   "id": "997feacb",
   "metadata": {},
   "source": [
    "# Normal Distribution\n",
    "https://docs.scipy.org/doc/scipy/reference/reference/generated/scipy.stats.norm.html#scipy.stats.norm"
   ]
  },
  {
   "cell_type": "code",
   "execution_count": 32,
   "id": "e54b6271",
   "metadata": {},
   "outputs": [],
   "source": [
    "from scipy.stats import norm"
   ]
  },
  {
   "cell_type": "code",
   "execution_count": 33,
   "id": "fbf213ec",
   "metadata": {},
   "outputs": [
    {
     "data": {
      "image/png": "[encoded data removed]",
      "text/plain": [
       "<Figure size 432x288 with 1 Axes>"
      ]
     },
     "metadata": {
      "needs_background": "light"
     },
     "output_type": "display_data"
    }
   ],
   "source": [
    "fig, ax = plt.subplots(1, 1)"
   ]
  },
  {
   "cell_type": "code",
   "execution_count": 34,
   "id": "fbba00c7",
   "metadata": {},
   "outputs": [
    {
     "data": {
      "text/plain": [
       "(array(0.5), array(0.08333333), array(0.), array(-1.2))"
      ]
     },
     "execution_count": 34,
     "metadata": {},
     "output_type": "execute_result"
    }
   ],
   "source": [
    "mean, var, skew, kurt = uniform.stats(moments='mvsk')\n",
    "\n",
    "mean, var, skew, kurt"
   ]
  },
  {
   "cell_type": "code",
   "execution_count": 35,
   "id": "d257244f",
   "metadata": {},
   "outputs": [
    {
     "data": {
      "text/plain": [
       "<matplotlib.legend.Legend at 0x2966e106d00>"
      ]
     },
     "execution_count": 35,
     "metadata": {},
     "output_type": "execute_result"
    }
   ],
   "source": [
    "x = np.linspace(norm.ppf(0.01),\n",
    "                norm.ppf(0.99), 50)\n",
    "ax.plot(x, norm.pdf(x),\n",
    "       'r-', lw=5, alpha=0.6, label='norm pdf')\n",
    "rv = norm()\n",
    "ax.plot(x, rv.pdf(x), 'k-', lw=2, label='frozen pdf')\n",
    "ax.hist(r, density=True, histtype='stepfilled', alpha=0.2)\n",
    "ax.legend(loc='best', frameon=False)"
   ]
  },
  {
   "cell_type": "code",
   "execution_count": 36,
   "id": "3bc6515a",
   "metadata": {},
   "outputs": [
    {
     "data": {
      "text/plain": [
       "array([-2.32634787, -2.2313949 , -2.13644193, -2.04148895, -1.94653598,\n",
       "       -1.851583  , -1.75663003, -1.66167705, -1.56672408, -1.4717711 ,\n",
       "       -1.37681813, -1.28186516, -1.18691218, -1.09195921, -0.99700623,\n",
       "       -0.90205326, -0.80710028, -0.71214731, -0.61719433, -0.52224136,\n",
       "       -0.42728839, -0.33233541, -0.23738244, -0.14242946, -0.04747649,\n",
       "        0.04747649,  0.14242946,  0.23738244,  0.33233541,  0.42728839,\n",
       "        0.52224136,  0.61719433,  0.71214731,  0.80710028,  0.90205326,\n",
       "        0.99700623,  1.09195921,  1.18691218,  1.28186516,  1.37681813,\n",
       "        1.4717711 ,  1.56672408,  1.66167705,  1.75663003,  1.851583  ,\n",
       "        1.94653598,  2.04148895,  2.13644193,  2.2313949 ,  2.32634787])"
      ]
     },
     "execution_count": 36,
     "metadata": {},
     "output_type": "execute_result"
    }
   ],
   "source": [
    "x"
   ]
  },
  {
   "cell_type": "code",
   "execution_count": 37,
   "id": "dd2da846",
   "metadata": {},
   "outputs": [
    {
     "data": {
      "image/png": "[encoded data removed]",
      "text/plain": [
       "<Figure size 432x288 with 1 Axes>"
      ]
     },
     "execution_count": 37,
     "metadata": {},
     "output_type": "execute_result"
    }
   ],
   "source": [
    "fig"
   ]
  },
  {
   "cell_type": "code",
   "execution_count": 38,
   "id": "b663d92e",
   "metadata": {},
   "outputs": [
    {
     "data": {
      "text/plain": [
       "True"
      ]
     },
     "execution_count": 38,
     "metadata": {},
     "output_type": "execute_result"
    }
   ],
   "source": [
    "vals = norm.ppf([0.001, 0.5, 0.999])\n",
    "np.allclose([0.001, 0.5, 0.999], norm.cdf(vals))"
   ]
  },
  {
   "cell_type": "code",
   "execution_count": 39,
   "id": "b04136ca",
   "metadata": {},
   "outputs": [
    {
     "data": {
      "text/plain": [
       "array([ 0.97894051, -1.37374592,  0.5316344 ,  0.71022498, -0.01348241,\n",
       "       -1.77534338, -0.25372865, -1.33769962, -0.10466696,  0.46042297])"
      ]
     },
     "execution_count": 39,
     "metadata": {},
     "output_type": "execute_result"
    }
   ],
   "source": [
    "r = norm.rvs(size=10)\n",
    "\n",
    "r"
   ]
  },
  {
   "cell_type": "markdown",
   "id": "1e0be4ec",
   "metadata": {},
   "source": [
    "# Gamma Distribution\n",
    "https://docs.scipy.org/doc/scipy/reference/tutorial/stats/continuous_gamma.html"
   ]
  },
  {
   "cell_type": "code",
   "execution_count": 40,
   "id": "ef3cef39",
   "metadata": {},
   "outputs": [],
   "source": [
    "from scipy.stats import gamma"
   ]
  },
  {
   "cell_type": "code",
   "execution_count": 41,
   "id": "e167ee57",
   "metadata": {},
   "outputs": [
    {
     "data": {
      "image/png": "[encoded data removed]",
      "text/plain": [
       "<Figure size 432x288 with 1 Axes>"
      ]
     },
     "metadata": {
      "needs_background": "light"
     },
     "output_type": "display_data"
    }
   ],
   "source": [
    "fig, ax = plt.subplots(1, 1)"
   ]
  },
  {
   "cell_type": "code",
   "execution_count": 42,
   "id": "f869f51d",
   "metadata": {},
   "outputs": [
    {
     "data": {
      "text/plain": [
       "(array(8.75), array(8.75), array(0.6761234), array(0.68571429))"
      ]
     },
     "execution_count": 42,
     "metadata": {},
     "output_type": "execute_result"
    }
   ],
   "source": [
    "a = 8.75\n",
    "mean, var, skew, kurt = gamma.stats(a, moments='mvsk')\n",
    "\n",
    "mean, var, skew, kurt"
   ]
  },
  {
   "cell_type": "code",
   "execution_count": 43,
   "id": "e555457d",
   "metadata": {},
   "outputs": [
    {
     "data": {
      "text/plain": [
       "<matplotlib.legend.Legend at 0x2966e31f970>"
      ]
     },
     "execution_count": 43,
     "metadata": {},
     "output_type": "execute_result"
    }
   ],
   "source": [
    "x = np.linspace(gamma.ppf(0.01, a),\n",
    "                gamma.ppf(0.99, a), 100)\n",
    "ax.plot(x, gamma.pdf(x, a),\n",
    "       'r-', lw=5, alpha=0.6, label='gamma pdf')\n",
    "rv = gamma(a)\n",
    "ax.plot(x, rv.pdf(x), 'k-', lw=2, label='frozen pdf')\n",
    "ax.hist(r, density=True, histtype='stepfilled', alpha=0.2)\n",
    "ax.legend(loc='best', frameon=False)"
   ]
  },
  {
   "cell_type": "code",
   "execution_count": 44,
   "id": "ff12a43b",
   "metadata": {},
   "outputs": [
    {
     "data": {
      "text/plain": [
       "array([ 3.35497321,  3.49334939,  3.63172556,  3.77010174,  3.90847792,\n",
       "        4.0468541 ,  4.18523027,  4.32360645,  4.46198263,  4.6003588 ,\n",
       "        4.73873498,  4.87711116,  5.01548734,  5.15386351,  5.29223969,\n",
       "        5.43061587,  5.56899205,  5.70736822,  5.8457444 ,  5.98412058,\n",
       "        6.12249675,  6.26087293,  6.39924911,  6.53762529,  6.67600146,\n",
       "        6.81437764,  6.95275382,  7.09113   ,  7.22950617,  7.36788235,\n",
       "        7.50625853,  7.6446347 ,  7.78301088,  7.92138706,  8.05976324,\n",
       "        8.19813941,  8.33651559,  8.47489177,  8.61326795,  8.75164412,\n",
       "        8.8900203 ,  9.02839648,  9.16677265,  9.30514883,  9.44352501,\n",
       "        9.58190119,  9.72027736,  9.85865354,  9.99702972, 10.1354059 ,\n",
       "       10.27378207, 10.41215825, 10.55053443, 10.6889106 , 10.82728678,\n",
       "       10.96566296, 11.10403914, 11.24241531, 11.38079149, 11.51916767,\n",
       "       11.65754385, 11.79592002, 11.9342962 , 12.07267238, 12.21104855,\n",
       "       12.34942473, 12.48780091, 12.62617709, 12.76455326, 12.90292944,\n",
       "       13.04130562, 13.1796818 , 13.31805797, 13.45643415, 13.59481033,\n",
       "       13.7331865 , 13.87156268, 14.00993886, 14.14831504, 14.28669121,\n",
       "       14.42506739, 14.56344357, 14.70181975, 14.84019592, 14.9785721 ,\n",
       "       15.11694828, 15.25532446, 15.39370063, 15.53207681, 15.67045299,\n",
       "       15.80882916, 15.94720534, 16.08558152, 16.2239577 , 16.36233387,\n",
       "       16.50071005, 16.63908623, 16.77746241, 16.91583858, 17.05421476])"
      ]
     },
     "execution_count": 44,
     "metadata": {},
     "output_type": "execute_result"
    }
   ],
   "source": [
    "x"
   ]
  },
  {
   "cell_type": "code",
   "execution_count": 45,
   "id": "e2358fe8",
   "metadata": {},
   "outputs": [
    {
     "data": {
      "image/png": "[encoded data removed]",
      "text/plain": [
       "<Figure size 432x288 with 1 Axes>"
      ]
     },
     "execution_count": 45,
     "metadata": {},
     "output_type": "execute_result"
    }
   ],
   "source": [
    "fig"
   ]
  },
  {
   "cell_type": "code",
   "execution_count": 46,
   "id": "373ea83b",
   "metadata": {},
   "outputs": [
    {
     "data": {
      "text/plain": [
       "True"
      ]
     },
     "execution_count": 46,
     "metadata": {},
     "output_type": "execute_result"
    }
   ],
   "source": [
    "vals = gamma.ppf([0.001, 0.5, 0.999], a)\n",
    "np.allclose([0.001, 0.5, 0.999], gamma.cdf(vals, a))"
   ]
  },
  {
   "cell_type": "code",
   "execution_count": 47,
   "id": "fb051fff",
   "metadata": {},
   "outputs": [
    {
     "data": {
      "text/plain": [
       "array([13.71311797,  8.48121642,  7.32486257, 11.53205565,  4.41425496,\n",
       "       11.78795932,  5.49595967,  3.92199844, 10.42413058,  5.63747983])"
      ]
     },
     "execution_count": 47,
     "metadata": {},
     "output_type": "execute_result"
    }
   ],
   "source": [
    "r = gamma.rvs(a, size=10)\n",
    "\n",
    "r"
   ]
  },
  {
   "cell_type": "code",
   "execution_count": null,
   "id": "ee9b8fe0",
   "metadata": {},
   "outputs": [],
   "source": []
  }
 ],
 "metadata": {
  "kernelspec": {
   "display_name": "Python 3 (ipykernel)",
   "language": "python",
   "name": "python3"
  },
  "language_info": {
   "codemirror_mode": {
    "name": "ipython",
    "version": 3
   },
   "file_extension": ".py",
   "mimetype": "text/x-python",
   "name": "python",
   "nbconvert_exporter": "python",
   "pygments_lexer": "ipython3",
   "version": "3.9.7"
  }
 },
 "nbformat": 4,
 "nbformat_minor": 5
}
